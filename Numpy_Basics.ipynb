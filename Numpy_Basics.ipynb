{
  "nbformat": 4,
  "nbformat_minor": 0,
  "metadata": {
    "colab": {
      "provenance": [],
      "authorship_tag": "ABX9TyMEZZCIT2yZG+0aGBFeVdxv",
      "include_colab_link": true
    },
    "kernelspec": {
      "name": "python3",
      "display_name": "Python 3"
    },
    "language_info": {
      "name": "python"
    }
  },
  "cells": [
    {
      "cell_type": "markdown",
      "metadata": {
        "id": "view-in-github",
        "colab_type": "text"
      },
      "source": [
        "<a href=\"https://colab.research.google.com/github/Suraj945gh/Antariksh/blob/main/Numpy_Basics.ipynb\" target=\"_parent\"><img src=\"https://colab.research.google.com/assets/colab-badge.svg\" alt=\"Open In Colab\"/></a>"
      ]
    },
    {
      "cell_type": "code",
      "source": [
        "import numpy as np"
      ],
      "metadata": {
        "id": "B5qtu2n-L9_w"
      },
      "execution_count": 25,
      "outputs": []
    },
    {
      "cell_type": "code",
      "source": [
        "# Making a list into an array , the same can be done with tuples\n",
        "myarr = np.array([2,3444,5,67] , np.int16)\n",
        "# Here int16 is a dtype meaning 16 bit integer datatype i.e.\n",
        "# elements in the array take only 2 bytes of memory\n",
        "# Hence adding dtype provides memory management\n",
        "\n",
        "print(myarr)\n",
        "myarr[3]"
      ],
      "metadata": {
        "colab": {
          "base_uri": "https://localhost:8080/"
        },
        "id": "s-JYIKtENRow",
        "outputId": "f1f31837-6bda-46bf-970e-b3a269ff020d"
      },
      "execution_count": 26,
      "outputs": [
        {
          "output_type": "stream",
          "name": "stdout",
          "text": [
            "[   2 3444    5   67]\n"
          ]
        },
        {
          "output_type": "execute_result",
          "data": {
            "text/plain": [
              "67"
            ]
          },
          "metadata": {},
          "execution_count": 26
        }
      ]
    },
    {
      "cell_type": "code",
      "source": [
        "# Program showing dtype usage\n",
        "default_array = np.array([1,2,3,4,5])\n",
        "print(\"Default Array is : \",default_array)\n",
        "print(\"dtype : \",default_array.dtype)\n",
        "# Here since , no dtype is given ,it'll take the highest one\n",
        "\n",
        "float_array = np.array([1,2,3,4,5] , np.float16)\n",
        "print(\"Float Array is : \",float_array)\n",
        "print(\"dtype = \",float_array.dtype)\n",
        "# Here since we mentioned the dtype , we've managed memory\n",
        "\n",
        "# Shortcut for dtype is :\n",
        "newarr = np.array([4,5,33,6,7] , dtype='f4')\n",
        "print(newarr)\n",
        "print(newarr.dtype)    # f4 means float 32 as 4 bytes = 32 bits\n",
        "\n",
        "# Changing the dtype :\n",
        "newarrr = newarr.astype('i8')\n",
        "print(\"After changing the dtype : \",newarrr.dtype)"
      ],
      "metadata": {
        "colab": {
          "base_uri": "https://localhost:8080/"
        },
        "id": "iSDQalYaSjsq",
        "outputId": "17616d74-418c-4a70-ded5-636ae9678f1b"
      },
      "execution_count": 27,
      "outputs": [
        {
          "output_type": "stream",
          "name": "stdout",
          "text": [
            "Default Array is :  [1 2 3 4 5]\n",
            "dtype :  int64\n",
            "Float Array is :  [1. 2. 3. 4. 5.]\n",
            "dtype =  float16\n",
            "[ 4.  5. 33.  6.  7.]\n",
            "float32\n",
            "After changing the dtype :  int64\n"
          ]
        }
      ]
    },
    {
      "cell_type": "code",
      "source": [
        "# Making a nested array\n",
        "newArr = np.array([[2,34,45,1],[11,34,77,0]])\n",
        "print(newArr)\n",
        "print('\\n')\n",
        "print(newArr.shape)  # Tells that there are 2 rows and 4 columns here\n",
        "print(newArr.dtype)  # Gives the dtype\n",
        "print(newArr[1,2])\n",
        "print(newArr[0])\n",
        "newArr[1,1] = 111  # This changes 2nd element in 2nd row to 111\n",
        "print('\\n')\n",
        "print(newArr)\n",
        "\n",
        "strarr = np.array(['hi','hello','kaiseho','bonjour'])\n",
        "print(strarr.dtype)\n",
        "# U7 means Unicode (string) and 7 is the max. chars in any one of the elements\n",
        "print(strarr.size)"
      ],
      "metadata": {
        "colab": {
          "base_uri": "https://localhost:8080/"
        },
        "id": "wENBPkWzUioV",
        "outputId": "3053e93e-c411-41d1-ae6a-e53cde02d2ae"
      },
      "execution_count": 28,
      "outputs": [
        {
          "output_type": "stream",
          "name": "stdout",
          "text": [
            "[[ 2 34 45  1]\n",
            " [11 34 77  0]]\n",
            "\n",
            "\n",
            "(2, 4)\n",
            "int64\n",
            "77\n",
            "[ 2 34 45  1]\n",
            "\n",
            "\n",
            "[[  2  34  45   1]\n",
            " [ 11 111  77   0]]\n",
            "<U7\n",
            "4\n"
          ]
        }
      ]
    },
    {
      "cell_type": "code",
      "source": [
        "# Intrinsic numpy array creation objects i.e. already known functions\n",
        "zero = np.zeros((2,3))\n",
        "\n",
        "# zeros() function is used to return a new array of a given shape and type filled with zeros."
      ],
      "metadata": {
        "id": "IFxG9qMDcU2w"
      },
      "execution_count": 29,
      "outputs": []
    },
    {
      "cell_type": "code",
      "source": [
        "zero  # basically gives an array of 2 rows of 3 elements each"
      ],
      "metadata": {
        "colab": {
          "base_uri": "https://localhost:8080/"
        },
        "id": "phFSbcuxcv1y",
        "outputId": "af3df429-0e53-4cb4-ea1e-5ce35301147c"
      },
      "execution_count": 30,
      "outputs": [
        {
          "output_type": "execute_result",
          "data": {
            "text/plain": [
              "array([[0., 0., 0.],\n",
              "       [0., 0., 0.]])"
            ]
          },
          "metadata": {},
          "execution_count": 30
        }
      ]
    },
    {
      "cell_type": "code",
      "source": [
        "print(zero.shape)\n",
        "print(zero.size)\n",
        "print(zero.dtype)\n",
        "print(np.zeros((2,4,3,3)))\n",
        "# It means ki 3*3 ke 4 elements banao and iss configuration ko 2 baar repeat karo"
      ],
      "metadata": {
        "colab": {
          "base_uri": "https://localhost:8080/"
        },
        "id": "ZXN7UDTrdRjB",
        "outputId": "ec04dd1d-57b5-46c0-b78a-b2403e9165d2"
      },
      "execution_count": 31,
      "outputs": [
        {
          "output_type": "stream",
          "name": "stdout",
          "text": [
            "(2, 3)\n",
            "6\n",
            "float64\n",
            "[[[[0. 0. 0.]\n",
            "   [0. 0. 0.]\n",
            "   [0. 0. 0.]]\n",
            "\n",
            "  [[0. 0. 0.]\n",
            "   [0. 0. 0.]\n",
            "   [0. 0. 0.]]\n",
            "\n",
            "  [[0. 0. 0.]\n",
            "   [0. 0. 0.]\n",
            "   [0. 0. 0.]]\n",
            "\n",
            "  [[0. 0. 0.]\n",
            "   [0. 0. 0.]\n",
            "   [0. 0. 0.]]]\n",
            "\n",
            "\n",
            " [[[0. 0. 0.]\n",
            "   [0. 0. 0.]\n",
            "   [0. 0. 0.]]\n",
            "\n",
            "  [[0. 0. 0.]\n",
            "   [0. 0. 0.]\n",
            "   [0. 0. 0.]]\n",
            "\n",
            "  [[0. 0. 0.]\n",
            "   [0. 0. 0.]\n",
            "   [0. 0. 0.]]\n",
            "\n",
            "  [[0. 0. 0.]\n",
            "   [0. 0. 0.]\n",
            "   [0. 0. 0.]]]]\n"
          ]
        }
      ]
    },
    {
      "cell_type": "code",
      "source": [
        "# By default the dtype is float in zeros() function\n",
        "# But you can also change its dtype :\n",
        "zero2 = np.zeros((3,4),dtype=int)\n",
        "zero2"
      ],
      "metadata": {
        "colab": {
          "base_uri": "https://localhost:8080/"
        },
        "id": "w8343fO2HDG6",
        "outputId": "b7a4c8af-cbe3-40ab-92ba-d179e728ca4a"
      },
      "execution_count": 32,
      "outputs": [
        {
          "output_type": "execute_result",
          "data": {
            "text/plain": [
              "array([[0, 0, 0, 0],\n",
              "       [0, 0, 0, 0],\n",
              "       [0, 0, 0, 0]])"
            ]
          },
          "metadata": {},
          "execution_count": 32
        }
      ]
    },
    {
      "cell_type": "code",
      "source": [
        "# arange method returns nos. from 0 to n-1\n",
        "\n",
        "range1 = np.arange(13)      # arange(stop)\n",
        "print(range1)\n",
        "range2 = np.arange(3,23)    # arange(start, stop)\n",
        "print(range2)\n",
        "range3 = np.arange(5,25,3,dtype=float)  # arange(start, stop, step)\n",
        "# mentioning dtype is optional\n",
        "print(range3)"
      ],
      "metadata": {
        "colab": {
          "base_uri": "https://localhost:8080/"
        },
        "id": "tdng95u-d8aK",
        "outputId": "248ecb3d-ce3a-4e04-e195-6dacff90e551"
      },
      "execution_count": 33,
      "outputs": [
        {
          "output_type": "stream",
          "name": "stdout",
          "text": [
            "[ 0  1  2  3  4  5  6  7  8  9 10 11 12]\n",
            "[ 3  4  5  6  7  8  9 10 11 12 13 14 15 16 17 18 19 20 21 22]\n",
            "[ 5.  8. 11. 14. 17. 20. 23.]\n"
          ]
        }
      ]
    },
    {
      "cell_type": "code",
      "source": [
        "# linspace returns equally spaced nos. and takes 3 parameters\n",
        "equal_space = np.linspace(1,6,10)\n",
        "# Here , basically we're saying gimme 10 equally spaced nos. from 1 to 6\n",
        "print(equal_space)\n",
        "print('\\n')\n",
        "\n",
        "space1 = np.linspace(2.,3.)   # If you don't mention num parameter , then by default 50 nos. will be given\n",
        "print(space1)\n",
        "print('\\n')\n",
        "\n",
        "space2 = np.linspace(2.0,3.0,num=5) # num parameter means how many nos. do you want from the interval with equal space\n",
        "print(space2)\n",
        "print('\\n')\n",
        "\n",
        "space3 = np.linspace (5,13,num=6,endpoint = False , retstep = True)\n",
        "print(space3)\n",
        "# Here endpoint means do not include the last sample i.e. 13 here (By default , it is True)\n",
        "# retstep means return me the step size of the evenly spaced nos."
      ],
      "metadata": {
        "colab": {
          "base_uri": "https://localhost:8080/"
        },
        "id": "YQcehCmsNSAf",
        "outputId": "d5550e2f-eb5a-4221-b5fa-9b45862c8cc1"
      },
      "execution_count": 34,
      "outputs": [
        {
          "output_type": "stream",
          "name": "stdout",
          "text": [
            "[1.         1.55555556 2.11111111 2.66666667 3.22222222 3.77777778\n",
            " 4.33333333 4.88888889 5.44444444 6.        ]\n",
            "\n",
            "\n",
            "[2.         2.02040816 2.04081633 2.06122449 2.08163265 2.10204082\n",
            " 2.12244898 2.14285714 2.16326531 2.18367347 2.20408163 2.2244898\n",
            " 2.24489796 2.26530612 2.28571429 2.30612245 2.32653061 2.34693878\n",
            " 2.36734694 2.3877551  2.40816327 2.42857143 2.44897959 2.46938776\n",
            " 2.48979592 2.51020408 2.53061224 2.55102041 2.57142857 2.59183673\n",
            " 2.6122449  2.63265306 2.65306122 2.67346939 2.69387755 2.71428571\n",
            " 2.73469388 2.75510204 2.7755102  2.79591837 2.81632653 2.83673469\n",
            " 2.85714286 2.87755102 2.89795918 2.91836735 2.93877551 2.95918367\n",
            " 2.97959184 3.        ]\n",
            "\n",
            "\n",
            "[2.   2.25 2.5  2.75 3.  ]\n",
            "\n",
            "\n",
            "(array([ 5.        ,  6.33333333,  7.66666667,  9.        , 10.33333333,\n",
            "       11.66666667]), 1.3333333333333333)\n"
          ]
        }
      ]
    },
    {
      "cell_type": "code",
      "source": [
        "# empty function gives an array of random values , which you can assign later\n",
        "randomarr = np.empty((2,4))  # array of 2 rows and 4 columns\n",
        "print(randomarr)\n",
        "print('\\n')\n",
        "# You can also define dtype for it , i.e.\n",
        "randomarr2 = np.empty((2,3),dtype = int)\n",
        "print(randomarr2)\n",
        "print('\\n')\n",
        "\n",
        "# empty_like() takes an previously defined array and copies its size into an empty array\n",
        "emplike = np.empty_like(space2) # Now emplike is same as space2\n",
        "print(emplike)"
      ],
      "metadata": {
        "colab": {
          "base_uri": "https://localhost:8080/"
        },
        "id": "mi5LIRurf0mE",
        "outputId": "bca79f7b-549a-4906-c635-848dd0b9069e"
      },
      "execution_count": 35,
      "outputs": [
        {
          "output_type": "stream",
          "name": "stdout",
          "text": [
            "[[4.67967842e-310 0.00000000e+000 0.00000000e+000 0.00000000e+000]\n",
            " [0.00000000e+000 0.00000000e+000 0.00000000e+000 0.00000000e+000]]\n",
            "\n",
            "\n",
            "[[4617315517961601024 4618816717837391189 4620317917713181354]\n",
            " [4621256167635550208 4622006767573445290 4622757367511340373]]\n",
            "\n",
            "\n",
            "[2.   2.25 2.5  2.75 3.  ]\n"
          ]
        }
      ]
    },
    {
      "cell_type": "code",
      "source": [
        "# identity() function\n",
        "# The identity array is a square array with ones on the main diagonal\n",
        "iden = np.identity(55)\n",
        "print(iden)   # Gives an identity matrix of 55 X 55 elements\n",
        "print(iden.shape)"
      ],
      "metadata": {
        "colab": {
          "base_uri": "https://localhost:8080/"
        },
        "id": "7NcXtl4aX8Gn",
        "outputId": "48242826-09b1-432e-f506-aa1edff53dc8"
      },
      "execution_count": 36,
      "outputs": [
        {
          "output_type": "stream",
          "name": "stdout",
          "text": [
            "[[1. 0. 0. ... 0. 0. 0.]\n",
            " [0. 1. 0. ... 0. 0. 0.]\n",
            " [0. 0. 1. ... 0. 0. 0.]\n",
            " ...\n",
            " [0. 0. 0. ... 1. 0. 0.]\n",
            " [0. 0. 0. ... 0. 1. 0.]\n",
            " [0. 0. 0. ... 0. 0. 1.]]\n",
            "(55, 55)\n"
          ]
        }
      ]
    },
    {
      "cell_type": "code",
      "source": [
        "arr = np.arange(45)\n",
        "print(arr)\n",
        "print('\\n')\n",
        "# It basically reshapes a provided array but remem that elements in each row should be same , otherwise it'll throw error\n",
        "arr = arr.reshape(5,9)   # This func. generates a 2d array for us\n",
        "print(arr)\n",
        "print('\\n')\n",
        "\n",
        "# Now to again have our 1d array , use ravel() function\n",
        "arr = arr.ravel()\n",
        "print(arr)\n",
        "print(arr.shape)  # Gives us a 1d array ka length"
      ],
      "metadata": {
        "colab": {
          "base_uri": "https://localhost:8080/"
        },
        "id": "2A4MpFwfZRp1",
        "outputId": "311f9198-871b-47d3-c9cb-b20b1435f75c"
      },
      "execution_count": 37,
      "outputs": [
        {
          "output_type": "stream",
          "name": "stdout",
          "text": [
            "[ 0  1  2  3  4  5  6  7  8  9 10 11 12 13 14 15 16 17 18 19 20 21 22 23\n",
            " 24 25 26 27 28 29 30 31 32 33 34 35 36 37 38 39 40 41 42 43 44]\n",
            "\n",
            "\n",
            "[[ 0  1  2  3  4  5  6  7  8]\n",
            " [ 9 10 11 12 13 14 15 16 17]\n",
            " [18 19 20 21 22 23 24 25 26]\n",
            " [27 28 29 30 31 32 33 34 35]\n",
            " [36 37 38 39 40 41 42 43 44]]\n",
            "\n",
            "\n",
            "[ 0  1  2  3  4  5  6  7  8  9 10 11 12 13 14 15 16 17 18 19 20 21 22 23\n",
            " 24 25 26 27 28 29 30 31 32 33 34 35 36 37 38 39 40 41 42 43 44]\n",
            "(45,)\n"
          ]
        }
      ]
    },
    {
      "cell_type": "code",
      "source": [
        "x = [[1,2,3] , [4,5,6] , [7,1,0]]\n",
        "Arr = np.array(x)\n",
        "print(Arr)\n",
        "print( \"Sum of all column elements :\", Arr.sum(axis=0))\n",
        "print(\"Sum of all row elements : \", Arr.sum(axis=1))"
      ],
      "metadata": {
        "colab": {
          "base_uri": "https://localhost:8080/"
        },
        "id": "aSHraM1YhVu0",
        "outputId": "8cea7e18-6d0e-471a-d7a8-4bb353900983"
      },
      "execution_count": 38,
      "outputs": [
        {
          "output_type": "stream",
          "name": "stdout",
          "text": [
            "[[1 2 3]\n",
            " [4 5 6]\n",
            " [7 1 0]]\n",
            "Sum of all column elements : [12  8  9]\n",
            "Sum of all row elements :  [ 6 15  8]\n"
          ]
        }
      ]
    },
    {
      "cell_type": "code",
      "source": [
        "# Attributes and functions :\n",
        "# Here onwards a thing without () is an attribute and with it is a function\n",
        "# To transpose an array (Arr):\n",
        "Arr.T"
      ],
      "metadata": {
        "colab": {
          "base_uri": "https://localhost:8080/"
        },
        "id": "xjafSlbdivzF",
        "outputId": "ad57f536-df10-4fb7-9cbe-2724fd04b8d5"
      },
      "execution_count": 39,
      "outputs": [
        {
          "output_type": "execute_result",
          "data": {
            "text/plain": [
              "array([[1, 4, 7],\n",
              "       [2, 5, 1],\n",
              "       [3, 6, 0]])"
            ]
          },
          "metadata": {},
          "execution_count": 39
        }
      ]
    },
    {
      "cell_type": "code",
      "source": [
        "Arr.flat  # A 1-D iterator over the array\n",
        "for i in Arr.flat:\n",
        "  print(i)\n",
        "\n",
        "Arr2 = np.arange(20).reshape(5,4)  # Made a 2d array\n",
        "print(Arr2)\n",
        "print(\"A section from array : \",Arr2.flat[4:11])  # Used iterator to give the values\n",
        "Arr2.flat = 9      # Setting all the values to 9\n",
        "print(Arr2)\n",
        "Arr2.flat[1:8] = 1      # Changing some values in the array\n",
        "Arr2.flat[13:18] = 77\n",
        "print(Arr2)"
      ],
      "metadata": {
        "colab": {
          "base_uri": "https://localhost:8080/"
        },
        "id": "4WhpAf2yjQRu",
        "outputId": "97857e99-1fa1-4ce7-c173-596b5f7c9359"
      },
      "execution_count": 40,
      "outputs": [
        {
          "output_type": "stream",
          "name": "stdout",
          "text": [
            "1\n",
            "2\n",
            "3\n",
            "4\n",
            "5\n",
            "6\n",
            "7\n",
            "1\n",
            "0\n",
            "[[ 0  1  2  3]\n",
            " [ 4  5  6  7]\n",
            " [ 8  9 10 11]\n",
            " [12 13 14 15]\n",
            " [16 17 18 19]]\n",
            "A section from array :  [ 4  5  6  7  8  9 10]\n",
            "[[9 9 9 9]\n",
            " [9 9 9 9]\n",
            " [9 9 9 9]\n",
            " [9 9 9 9]\n",
            " [9 9 9 9]]\n",
            "[[ 9  1  1  1]\n",
            " [ 1  1  1  1]\n",
            " [ 9  9  9  9]\n",
            " [ 9 77 77 77]\n",
            " [77 77  9  9]]\n"
          ]
        }
      ]
    },
    {
      "cell_type": "code",
      "source": [
        "print(Arr2.ndim)  # Gives the dimension of the array\n",
        "print(\"Dimensions : \")\n",
        "ele0d = np.array(33)\n",
        "print(ele0d.ndim)\n",
        "ele1d = np.array([2,4,3,4,55])\n",
        "print(ele1d.ndim)\n",
        "ele2d = np.array([[1,2,3] , [3,5,4]])\n",
        "print(ele2d.ndim)\n",
        "ele3d = np.array([ [[1,1,11,1],[2,2,78,2]] , [[3,3,56,3],[4,5,55,33]] ])\n",
        "print(ele3d.ndim)\n",
        "# Array indexing\n",
        "print(ele3d[0,1,:3])  # Here :3 means to start from beginning and go all the way to 1 less than the no. mentioned\n",
        "                      # Here the default step size is 1\n",
        "print(ele3d[1,1,::2]) # Here ::2 means ki starting se shuru karo but step size 2 rakho\n",
        "\n",
        "print('\\n')\n",
        "print(Arr2.size)  # Gives the no. of elements in the array\n",
        "print(Arr2.dtype)\n",
        "print(Arr2.nbytes)  # Gives info abt total bytes consumed by your array\n",
        "# Since int64 is the dtype so it means 64 bits i.e. 8 bytes\n",
        "# Hence every element uses 8 bytes of data , so here 8*20 = 160 bytes"
      ],
      "metadata": {
        "colab": {
          "base_uri": "https://localhost:8080/"
        },
        "id": "YYvofx-qwcno",
        "outputId": "235f1d81-3c5e-418c-f2d7-93d6510092c5"
      },
      "execution_count": 41,
      "outputs": [
        {
          "output_type": "stream",
          "name": "stdout",
          "text": [
            "2\n",
            "Dimensions : \n",
            "0\n",
            "1\n",
            "2\n",
            "3\n",
            "[ 2  2 78]\n",
            "[ 4 55]\n",
            "\n",
            "\n",
            "20\n",
            "int64\n",
            "160\n"
          ]
        }
      ]
    },
    {
      "cell_type": "code",
      "source": [
        "Arr3 = np.array([2,33,5,343,1])\n",
        "print(\"Min element is at index : \", Arr3.argmin())\n",
        "print(\"Max element is at index : \", Arr3.argmax())\n",
        "print(Arr3.argsort())\n",
        "# So argsort() gives back the array of indices in sorted fashion and not the actual sorted elements\n",
        "print('\\n')\n",
        "# Experimenting in 2d array :\n",
        "print(Arr)\n",
        "print(Arr.argmin()) # It basically converts the 2d array to 1d and then gives us the index of min and max element\n",
        "print(Arr.argmax())\n",
        "# Accessing max and min using axis\n",
        "print(Arr.argmax(axis=0))\n",
        "print(Arr.argmax(axis=1))\n",
        "print(\"Sorted 2d array :\\n\",Arr.argsort(axis =0))   # Returns array of sorted indices\n",
        "print(Arr.ravel())\n",
        "print(Arr.reshape(9,1))"
      ],
      "metadata": {
        "colab": {
          "base_uri": "https://localhost:8080/"
        },
        "id": "hfip2r9M1WSL",
        "outputId": "571d9e3b-8f7f-479f-fc3c-21c0313281b5"
      },
      "execution_count": 42,
      "outputs": [
        {
          "output_type": "stream",
          "name": "stdout",
          "text": [
            "Min element is at index :  4\n",
            "Max element is at index :  3\n",
            "[4 0 2 1 3]\n",
            "\n",
            "\n",
            "[[1 2 3]\n",
            " [4 5 6]\n",
            " [7 1 0]]\n",
            "8\n",
            "6\n",
            "[2 1 1]\n",
            "[2 2 0]\n",
            "Sorted 2d array :\n",
            " [[0 2 2]\n",
            " [1 0 0]\n",
            " [2 1 1]]\n",
            "[1 2 3 4 5 6 7 1 0]\n",
            "[[1]\n",
            " [2]\n",
            " [3]\n",
            " [4]\n",
            " [5]\n",
            " [6]\n",
            " [7]\n",
            " [1]\n",
            " [0]]\n"
          ]
        }
      ]
    },
    {
      "cell_type": "code",
      "source": [
        "# Mathematical operations in numpy i.e. matrix operations\n",
        "ar1 = np.array([[1,2,3] , [0,4,1] , [7,5,0]])\n",
        "ar2 = np.array([[8,3,9] , [1,3,8] , [2,3,1]])\n",
        "add = ar1 + ar2\n",
        "print(\"Addition : \\n\" ,add)\n",
        "sub = ar1 - ar2\n",
        "print(\"Subtraction : \\n\" ,sub)\n",
        "mul = ar1 * ar2\n",
        "print(\"Multiplication : \\n\", mul)\n",
        "div = ar1/ar2\n",
        "print(\"Division : \\n\",div)\n",
        "rem = ar1%ar2\n",
        "print(\"Remainder : \\n\",rem)"
      ],
      "metadata": {
        "colab": {
          "base_uri": "https://localhost:8080/"
        },
        "id": "kFp0jm8h6BEi",
        "outputId": "f59a78bb-8695-442f-c12c-c851d0ab2bf3"
      },
      "execution_count": 43,
      "outputs": [
        {
          "output_type": "stream",
          "name": "stdout",
          "text": [
            "Addition : \n",
            " [[ 9  5 12]\n",
            " [ 1  7  9]\n",
            " [ 9  8  1]]\n",
            "Subtraction : \n",
            " [[-7 -1 -6]\n",
            " [-1  1 -7]\n",
            " [ 5  2 -1]]\n",
            "Multiplication : \n",
            " [[ 8  6 27]\n",
            " [ 0 12  8]\n",
            " [14 15  0]]\n",
            "Division : \n",
            " [[0.125      0.66666667 0.33333333]\n",
            " [0.         1.33333333 0.125     ]\n",
            " [3.5        1.66666667 0.        ]]\n",
            "Remainder : \n",
            " [[1 2 3]\n",
            " [0 1 1]\n",
            " [1 2 0]]\n"
          ]
        }
      ]
    },
    {
      "cell_type": "code",
      "source": [
        "# Getting squareroot of the array\n",
        "sqrt = np.sqrt(ar2)\n",
        "print(sqrt)\n",
        "print(\"Sum of all elements : \", ar2.sum())\n",
        "print(\"Sum of elements column-wise : \", sum(ar2))\n",
        "print(\"Highest element : \",ar2.max())\n",
        "print(\"Lowest element : \", ar2.min())"
      ],
      "metadata": {
        "colab": {
          "base_uri": "https://localhost:8080/"
        },
        "id": "FpH0Wcfn9vZ3",
        "outputId": "bd08234b-c7e4-48d7-8c94-21ea2a2abc1e"
      },
      "execution_count": 44,
      "outputs": [
        {
          "output_type": "stream",
          "name": "stdout",
          "text": [
            "[[2.82842712 1.73205081 3.        ]\n",
            " [1.         1.73205081 2.82842712]\n",
            " [1.41421356 1.73205081 1.        ]]\n",
            "Sum of all elements :  38\n",
            "Sum of elements column-wise :  [11  9 18]\n",
            "Highest element :  9\n",
            "Lowest element :  1\n"
          ]
        }
      ]
    },
    {
      "cell_type": "code",
      "source": [
        "print(ar2)\n",
        "# Now if I wanna find elements with specific conditions then :\n",
        "print(np.where(ar2 == 8))\n",
        "# It gives the element indexes which are equal to 8 in our array . Its type is tuple\n",
        "print(np.where( ar2 > 7))    # Take first no. from output i.e. 0,0 which is 8 then 0,2 - 8 then 1,2 - 9\n",
        "print(np.count_nonzero(ar2))  # counts no. of items that are not zero"
      ],
      "metadata": {
        "colab": {
          "base_uri": "https://localhost:8080/"
        },
        "id": "O2J3uPrM_iQf",
        "outputId": "5488add2-5036-4a18-868e-e713b8ad552f"
      },
      "execution_count": 45,
      "outputs": [
        {
          "output_type": "stream",
          "name": "stdout",
          "text": [
            "[[8 3 9]\n",
            " [1 3 8]\n",
            " [2 3 1]]\n",
            "(array([0, 1]), array([0, 2]))\n",
            "(array([0, 0, 1]), array([0, 2, 2]))\n",
            "9\n"
          ]
        }
      ]
    },
    {
      "cell_type": "code",
      "source": [
        "import sys\n",
        "# Numpy takes less storage then normal python program . See below to see how\n",
        "python_arr = [2,44,67,33,6768]\n",
        "numpy_arr = np.array(python_arr)\n",
        "\n",
        "pysize = sys.getsizeof(1) * len(python_arr)\n",
        "print(\"Size of normal python program : \", pysize)\n",
        "npsize = numpy_arr.itemsize * numpy_arr.size\n",
        "print(\"Size of numpy program : \",npsize)"
      ],
      "metadata": {
        "colab": {
          "base_uri": "https://localhost:8080/"
        },
        "id": "9_madN1cDIsC",
        "outputId": "ae65c7c0-28ad-4805-eba4-e2bb63153a37"
      },
      "execution_count": 46,
      "outputs": [
        {
          "output_type": "stream",
          "name": "stdout",
          "text": [
            "Size of normal python program :  140\n",
            "Size of numpy program :  40\n"
          ]
        }
      ]
    },
    {
      "cell_type": "code",
      "source": [
        "# Numpy copy() function\n",
        "# The copy() method creates a completely independent copy of the original array\n",
        "# Modifying the copy will not affect the original array, and vice versa.\n",
        "# It creates a new memory allocation for the copied data.\n",
        "myarr = np.array([2,4,56,89,2])\n",
        "copy_arr = myarr.copy()\n",
        "myarr[2] = 99\n",
        "print(myarr)\n",
        "print(copy_arr)\n",
        "\n",
        "print('\\n')\n",
        "# Numpy view() function\n",
        "# The view() method creates a new array that is a \"view\" of the original array.\n",
        "# Modifying the view will affect the original array, and vice versa.\n",
        "# It does not create a new memory allocation for the data; instead, it provides a different \"view\" of the same data.\n",
        "print(myarr)\n",
        "view_arr = myarr.view()\n",
        "myarr[4] = 80\n",
        "print(\"myarr = \",myarr)\n",
        "print(\"view_arr =\",view_arr)"
      ],
      "metadata": {
        "colab": {
          "base_uri": "https://localhost:8080/"
        },
        "id": "H56uRmAT22J_",
        "outputId": "d67d28cb-2bbf-4c32-bcd3-315d8642146c"
      },
      "execution_count": 47,
      "outputs": [
        {
          "output_type": "stream",
          "name": "stdout",
          "text": [
            "[ 2  4 99 89  2]\n",
            "[ 2  4 56 89  2]\n",
            "\n",
            "\n",
            "[ 2  4 99 89  2]\n",
            "myarr =  [ 2  4 99 89 80]\n",
            "view_arr = [ 2  4 99 89 80]\n"
          ]
        }
      ]
    },
    {
      "cell_type": "code",
      "source": [
        "arrr1 = np.array([[3,4,5],[3,7,8]])\n",
        "arrr2 = np.array([[3,4,5],[3,7,8]])\n",
        "print(np.concatenate((arrr1,arrr2)))"
      ],
      "metadata": {
        "colab": {
          "base_uri": "https://localhost:8080/"
        },
        "id": "OVsbwRw_5CPk",
        "outputId": "18b4f226-f63b-4cc7-80d2-7d3eb926f647"
      },
      "execution_count": 49,
      "outputs": [
        {
          "output_type": "stream",
          "name": "stdout",
          "text": [
            "[[3 4 5]\n",
            " [3 7 8]\n",
            " [3 4 5]\n",
            " [3 7 8]]\n"
          ]
        }
      ]
    }
  ]
}