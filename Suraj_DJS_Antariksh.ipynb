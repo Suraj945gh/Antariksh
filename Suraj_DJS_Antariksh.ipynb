{
  "nbformat": 4,
  "nbformat_minor": 0,
  "metadata": {
    "colab": {
      "provenance": []
    },
    "kernelspec": {
      "name": "python3",
      "display_name": "Python 3"
    },
    "language_info": {
      "name": "python"
    }
  },
  "cells": [
    {
      "cell_type": "code",
      "execution_count": null,
      "metadata": {
        "id": "4i9f60LZlO-Z"
      },
      "outputs": [],
      "source": [
        "# Arithmetic Operators in Python\n",
        "a = 5\n",
        "b = 10\n",
        "print(a*b)\n",
        "print(a/b)\n",
        "print(a//b) # This is called as floor division and it gives only int values\n",
        "print(a+b)\n",
        "print(a-b)\n",
        "a = 8\n",
        "b = 2\n",
        "print(a**b) # This is exponentiation operator , i.e. here 8^2"
      ]
    },
    {
      "cell_type": "code",
      "source": [
        "# Using Complex Nos. in Python\n",
        "import cmath # Importing this module for complex calculations\n",
        "import numpy\n",
        "a = 5\n",
        "b = 3\n",
        "z = complex(a,b) # function which makes 2 nos. complex\n",
        "print(z)\n",
        "# Explicitly making complex nos.\n",
        "z1 = 5 + 9j\n",
        "z2 = 10 - 4j\n",
        "# Accessing their real and imaginary parts\n",
        "print(z1.real)\n",
        "print(z2.real)\n",
        "print(z1.imag)\n",
        "print(z2.imag)\n",
        "# Adding both the complex nos.\n",
        "print(z1 + z2)\n",
        "print(z1*z2)\n",
        "# Getting the absolute values\n",
        "print(abs(z1))\n",
        "print(abs(z2))\n",
        "print(cmath.polar(z1)) # returns (r,theta )\n",
        "print(numpy.conj(z1))  # Getiing the conjugate of z1"
      ],
      "metadata": {
        "id": "W5dJo0y-rbJe"
      },
      "execution_count": null,
      "outputs": []
    },
    {
      "cell_type": "code",
      "source": [
        "# In python , you don't need to declare datatype\n",
        "n1 = 4\n",
        "n2 = 2.34\n",
        "age = 18\n",
        "myStr = 'Suraj'\n",
        "print(type(n1))\n",
        "print(type(n2))\n",
        "print(type(myStr))\n",
        "# Typecasting\n",
        "print(int(n2))\n",
        "print(float(n1))\n",
        "print(\"My name is \"+ myStr + \" and age = \"+ str(age))\n"
      ],
      "metadata": {
        "id": "gP4zZ-FowOSm"
      },
      "execution_count": null,
      "outputs": []
    },
    {
      "cell_type": "code",
      "source": [
        "# Strings in Python\n",
        "comName = \"Antariksh\"\n",
        "print(f\"My name is {myStr} and age is {age}\") # Using f strings\n",
        "newStr = \"Hello , I am coding for Antariksh and it is cool\"\n",
        "print('Ant' in newStr)\n",
        "print('Cool' not in newStr)\n",
        "print(newStr[:12])\n",
        "print(newStr[-10:-1])  # Using negative indexing\n",
        "# Formatting the string using format() method\n",
        "print('Hola , I am {} and I am in {} committee'.format(myStr,comName))\n",
        "qty = 20\n",
        "model = \"DELL 'Inspiron'\"\n",
        "cost = 104.345\n",
        "sentence = \" We recently purchased {} laptops of category {} at {} dollars\"\n",
        "print(sentence.format(qty,model,cost))\n",
        "fact = 'The universe is {:,} old' # {:,} is used as a thousand separator\n",
        "print(fact.format(13800000000))\n",
        "# fix point number format\n",
        "print(\"The correct value of pi upto 3 decimal places is {:.3f}\".format(3.14159265359))\n",
        "print(\"The binary of 10 is {0:b} and hexadecimal is {0:X}\".format(10,10))"
      ],
      "metadata": {
        "id": "lMVyOj5g451o"
      },
      "execution_count": null,
      "outputs": []
    },
    {
      "cell_type": "code",
      "source": [
        "# Methods in Strings\n",
        "print(newStr.lower())\n",
        "print(newStr.upper())\n",
        "print(newStr.title())\n",
        "print(newStr.swapcase()) # Swaps the upper and lower cases\n",
        "print(newStr.split(' ')) # returns a list of words while identifying the separator\n",
        "print(newStr.replace('Antariksh','ISRO')) # Replaces the specific char/words\n",
        "print(newStr.count('a'))\n",
        "print(newStr.find('cod'))\n",
        "myTuple = ('Lara','is','just','19')\n",
        "x = \"_\".join(myTuple)  # Syntax - string.join(iterable)\n",
        "print(x)\n",
        "\n",
        "print(\"\\nHey\\rBro\")  # Carriage Return escape sequence\n",
        "print(\"This is a \\tTAB\")\n",
        "print(\"We are from the \\\"Aryabhatta\\\" community\")\n",
        "\n"
      ],
      "metadata": {
        "id": "ANGJQB7d6y3_"
      },
      "execution_count": null,
      "outputs": []
    },
    {
      "cell_type": "code",
      "source": [
        "# Lists in Python\n",
        "# Lists are ordered , changeable and indexed\n",
        "myList = [\"Pragyaan\",45,\"Prayaan\",560.34,True,False,\"Abhigyaan\"]\n",
        "# A list with int, float , string, boolean datatype\n",
        "print(len(myList))\n",
        "fruits = list(('mango','banana','apple','pineapple','jackfruit','dragonfruit'))\n",
        "# A list can also be made by using the list constructor\n",
        "print(fruits)\n",
        "print(type(fruits))\n",
        "print(fruits[2:5])\n",
        "print(myList[-5:]) # negative- indexing\n",
        "print(45 in myList)\n",
        "# Changing a range of values and then printing the list\n",
        "fruits[1:3]= ['grapes','kiwi']\n",
        "print(fruits)\n",
        "fruits.insert(3,'orange') # inserting new element at specified index\n",
        "print(fruits)\n"
      ],
      "metadata": {
        "id": "p_-xaTXz2S5P"
      },
      "execution_count": null,
      "outputs": []
    },
    {
      "cell_type": "code",
      "source": [
        "# Methods of Lists\n",
        "list1 = [1,2,3,4]\n",
        "list2 = [56,7,8,33]\n",
        "list1.append(\"Integers\") # It appends elements at the end of the list\n",
        "print(list1)\n",
        "list1.extend(list2)  # extend method adds any two lists/iterable also\n",
        "print(list1)\n",
        "tuple1 = ('h','o','w',True)\n",
        "list2.extend(tuple1) # added iterable(here tuple1) to the list2\n",
        "print(list2)\n",
        "\n",
        "list1.remove(56) # It removes the given element from the list\n",
        "print(list1)\n",
        "list1.pop(-4) # It removes element at the specified index\n",
        "print(list1)\n",
        "myList.pop() # If nothing is mentioned , it removes the last element\n",
        "print(myList)\n",
        "del list2 # It deletes the entire list\n",
        "# print(list2) This causes error becoz we've deleted the entire list\n",
        "del list1[2]\n",
        "print(list1)\n",
        "list1.clear()\n",
        "# clear() method empties the list but the list is still there with no content\n",
        "print(list1)\n",
        "fruits.sort()  # sorts the list alphanumerically ( but it is case - sensitive )\n",
        "print(fruits)\n",
        "intList = [45,34,67,8,99,253,12,345]\n",
        "# To sort the list in descending use the keyword argument reverse = True\n",
        "intList.sort(reverse = True)\n",
        "print(intList)"
      ],
      "metadata": {
        "id": "A4Et0L3HZc0q"
      },
      "execution_count": null,
      "outputs": []
    },
    {
      "cell_type": "code",
      "source": [
        "# Looping in Lists\n",
        "print(fruits)\n",
        "print(\"Printing individual fruits using for loop: \")\n",
        "for eachfruit in fruits :\n",
        "  print(eachfruit)\n",
        "print('\\nPrinting using range : ')\n",
        "for i in range(int(len(fruits)/2)) :\n",
        "  print(fruits[i])\n",
        "\n",
        "# List comprehension\n",
        "# Syntax list = [ expression for item in iterable if condition == True ]\n",
        "newList1 = [x for x in fruits if 'p' in x]\n",
        "print(newList1)\n",
        "newList2 = [x.upper() for x in fruits ] # We can modify exp , also we haven't given condition here\n",
        "print(newList2)\n",
        "newList3 = [x if 'AP' in x else '##' for x in newList2 ]\n",
        "# You can also mention condition in expression itself\n",
        "print(newList3)\n",
        "\n",
        "# Nested Lists\n",
        "List1 = [1,2,3]\n",
        "List2 = [2,45,67]\n",
        "List3 = ['hi',99,'yes']\n",
        "Biglist = [List1,List2,List3]\n",
        "Biglist"
      ],
      "metadata": {
        "id": "CIsqN3k9e6IF"
      },
      "execution_count": null,
      "outputs": []
    },
    {
      "cell_type": "code",
      "source": [
        "# Tuples in Python\n",
        "# Tuples are ordered , unchangeable(immutable) and indexed\n",
        "myTuple = (34,\"Amanda\",12.23, \"Shelly\",False)\n",
        "print(myTuple)\n",
        "print(len(myTuple))\n",
        "print(myTuple.count(3))\n",
        "# If you wanna define a tuple with one element add a comma at the end\n",
        "# Otherwise python won't consider it as tuple\n",
        "isTuple = (\"Hello\",)\n",
        "notTuple = (\"Hello\")\n",
        "print(type(isTuple))\n",
        "print(type(notTuple))\n",
        "noBraces = 1,2,3,4,4   # Parentheses are optional\n",
        "print(noBraces)\n",
        "print(myTuple[3:])\n",
        "\n",
        "# In tuples , you cannot add / remove elements directly\n",
        "# You can't change tuples but you can convert it to list and then change/add things\n",
        "tempList = list(myTuple)\n",
        "tempList[1] = 'Miranda'\n",
        "tempList.append('Nolan')\n",
        "myTuple = tuple(tempList)\n",
        "print(myTuple)\n",
        "\n",
        "# Unpacking tuples\n",
        "tuple1 = ('apple' , 'banana' , 'strawberry' , 'cherry' )\n",
        "(green , yellow , *red ) = tuple1 # Asterisk * gives list since no. of variables and elements is different\n",
        "print(green)\n",
        "print(yellow)\n",
        "print(red)"
      ],
      "metadata": {
        "id": "Ggiez6FoveVo"
      },
      "execution_count": null,
      "outputs": []
    },
    {
      "cell_type": "code",
      "source": [
        "# Sets in Python\n",
        "# Sets are unordered , unchangeable and not indexed and doesn't allow duplicate contents\n",
        "# But you can add / remove elements in sets\n",
        "mySet = {12,'str',True,1,2,'India'}\n",
        "print(mySet) # True and 1 are considered duplicates\n",
        "print(len(mySet))\n",
        "# Sets are only accessed by looping\n",
        "for item in mySet :\n",
        "  print(item)\n"
      ],
      "metadata": {
        "id": "2-s_94fW0lDv"
      },
      "execution_count": null,
      "outputs": []
    },
    {
      "cell_type": "code",
      "source": [
        "# Methods in Sets\n",
        "mySet.add('Kalaam')\n",
        "print(mySet)\n",
        "# To add two lists we used extend() method , but here we use update method\n",
        "set1 = {2,3,'abc',34,'ddd'}\n",
        "set2 = {False,6.78,'nope','ddd',34}\n",
        "set1.update(set2)\n",
        "print(set1)\n",
        "# We can also add any iterable using update() method\n",
        "\n",
        "# We have remove and discard method to remove contents\n",
        "# Where remove() raises error if there's no such content ,\n",
        "# while discard() doesn't\n",
        "set1.remove(2)\n",
        "set1.discard(False)\n",
        "set1.discard('hi')   # doesn't give error\n",
        "print(set1)\n",
        "# The clear() method empties the set and det() completely erases it\n",
        "# The pop() method can be used but it'll delete any random element\n",
        "\n",
        "set_1 = {'ck',12,'oh','ah',345}\n",
        "set_2 = {'no','oh',12,'haha','lol'}\n",
        "set_3 = set_1.intersection(set_2)  # will return the common items\n",
        "print(set_3)"
      ],
      "metadata": {
        "id": "rkriGtls3DCR"
      },
      "execution_count": null,
      "outputs": []
    },
    {
      "cell_type": "code",
      "source": [
        "# Dictionaries in Python\n",
        "# A dictionary is a collection which is ordered , changeable and do not allow duplicates.\n",
        "# Dictionary items are presented in key:value pairs\n",
        "\n",
        "mobile = { 'brand':'OnePlus' , 'RAM' : 6 , 'colors' : ['blue', 'black', 'white'] , 'cost' : 32000 }\n",
        "print(mobile)\n",
        "print(len(mobile))\n",
        "print(mobile['colors'])  # Accessing the values of a key\n",
        "\n",
        "# It can also be constructed using the dictionary const.\n",
        "details = dict(name = \"Rancho\", age = 24 , hasJob = False , dob = 1995 )\n",
        "print(details)"
      ],
      "metadata": {
        "id": "_4V2m08L65ju"
      },
      "execution_count": null,
      "outputs": []
    },
    {
      "cell_type": "code",
      "source": [
        "# Methods in dictionary\n",
        "print(mobile['RAM'])\n",
        "print(mobile.get('cost')) # get() method also gives value\n",
        "print(mobile.keys())   # keys() method gives all keys\n",
        "print(mobile.values())  # values() method gives all values\n",
        "\n",
        "# Adding new element\n",
        "mobile['launchdate'] =2023\n",
        "print(mobile)\n",
        "# You can also use the update method to add element\n",
        "\n",
        "# Changing a value\n",
        "mobile['brand'] = 'Oppo'\n",
        "print(mobile.values())\n",
        "print(mobile.items())\n",
        "# You can also use the update method to change element\n",
        "\n",
        "# pop method removes an item and popitem() removes last one\n",
        "mobile.pop('brand')\n",
        "print(mobile)\n",
        "mobile.popitem()\n",
        "print(mobile)\n",
        "\n",
        "# You can copy a dictionary by using copy() method\n"
      ],
      "metadata": {
        "id": "DXU-pHQN9vNC"
      },
      "execution_count": null,
      "outputs": []
    },
    {
      "cell_type": "code",
      "source": [
        "# Looping in dictionaries\n",
        "for x in mobile:  # by default returns the keys\n",
        "  print(x)\n",
        "# Returning the values\n",
        "for x in mobile:\n",
        "  print(mobile[x])\n",
        "# Returning the items\n",
        "for x in mobile.items() :\n",
        "  print(x)\n",
        "\n",
        "# Nested dictionary\n",
        "child1 = {\"name\":\"Arjun\", 'age' : 21}\n",
        "child2 = {\"name\":\"Bheem\", 'age' : 27}\n",
        "child3 = {\"name\":\"Nakul\", 'age' : 18}\n",
        "pandavas = {'child1' : child1 , 'child2' : child2 , 'child3' : child3}\n",
        "print(pandavas)\n",
        "print(pandavas['child3']['age'])  # Accessing an element\n",
        "#pandavas\n",
        "\n",
        "for key,value in pandavas.items() :\n",
        "  print(key)\n",
        "  print(value)"
      ],
      "metadata": {
        "id": "Ad2hthiOBxUn"
      },
      "execution_count": null,
      "outputs": []
    }
  ]
}