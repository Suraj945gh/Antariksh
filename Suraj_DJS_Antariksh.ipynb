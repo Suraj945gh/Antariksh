{
  "nbformat": 4,
  "nbformat_minor": 0,
  "metadata": {
    "colab": {
      "provenance": [],
      "authorship_tag": "ABX9TyP/GcPLOVqq4Y1Ewl7tEl2c",
      "include_colab_link": true
    },
    "kernelspec": {
      "name": "python3",
      "display_name": "Python 3"
    },
    "language_info": {
      "name": "python"
    }
  },
  "cells": [
    {
      "cell_type": "markdown",
      "metadata": {
        "id": "view-in-github",
        "colab_type": "text"
      },
      "source": [
        "<a href=\"https://colab.research.google.com/github/Suraj945gh/Antariksh/blob/main/Suraj_DJS_Antariksh.ipynb\" target=\"_parent\"><img src=\"https://colab.research.google.com/assets/colab-badge.svg\" alt=\"Open In Colab\"/></a>"
      ]
    },
    {
      "cell_type": "markdown",
      "source": [
        "# ***Lecture 1 - Python ( Till dictionaries )***"
      ],
      "metadata": {
        "id": "GnO5eWCnLLRD"
      }
    },
    {
      "cell_type": "code",
      "execution_count": 1,
      "metadata": {
        "id": "4i9f60LZlO-Z",
        "colab": {
          "base_uri": "https://localhost:8080/"
        },
        "outputId": "cda5801f-5f9f-434e-8d8e-873b7b1c69e8"
      },
      "outputs": [
        {
          "output_type": "stream",
          "name": "stdout",
          "text": [
            "50\n",
            "0.5\n",
            "0\n",
            "15\n",
            "-5\n",
            "64\n"
          ]
        }
      ],
      "source": [
        "# Arithmetic Operators in Python\n",
        "a = 5\n",
        "b = 10\n",
        "print(a*b)\n",
        "print(a/b)\n",
        "print(a//b) # This is called as floor division and it gives only int values\n",
        "print(a+b)\n",
        "print(a-b)\n",
        "a = 8\n",
        "b = 2\n",
        "print(a**b) # This is exponentiation operator , i.e. here 8^2"
      ]
    },
    {
      "cell_type": "code",
      "source": [
        "# Using Complex Nos. in Python\n",
        "import cmath # Importing this module for complex calculations\n",
        "import numpy\n",
        "a = 5\n",
        "b = 3\n",
        "z = complex(a,b) # function which makes 2 nos. complex\n",
        "print(z)\n",
        "# Explicitly making complex nos.\n",
        "z1 = 5 + 9j\n",
        "z2 = 10 - 4j\n",
        "# Accessing their real and imaginary parts\n",
        "print(z1.real)\n",
        "print(z2.real)\n",
        "print(z1.imag)\n",
        "print(z2.imag)\n",
        "# Adding both the complex nos.\n",
        "print(z1 + z2)\n",
        "print(z1*z2)\n",
        "# Getting the absolute values\n",
        "print(abs(z1))\n",
        "print(abs(z2))\n",
        "print(cmath.polar(z1)) # returns (r,theta )\n",
        "print(numpy.conj(z1))  # Getiing the conjugate of z1"
      ],
      "metadata": {
        "id": "W5dJo0y-rbJe",
        "colab": {
          "base_uri": "https://localhost:8080/"
        },
        "outputId": "3008634c-4e0c-45cb-fbe1-fd14b8d9f508"
      },
      "execution_count": 2,
      "outputs": [
        {
          "output_type": "stream",
          "name": "stdout",
          "text": [
            "(5+3j)\n",
            "5.0\n",
            "10.0\n",
            "9.0\n",
            "-4.0\n",
            "(15+5j)\n",
            "(86+70j)\n",
            "10.295630140987\n",
            "10.770329614269007\n",
            "(10.295630140987, 1.0636978224025597)\n",
            "(5-9j)\n"
          ]
        }
      ]
    },
    {
      "cell_type": "code",
      "source": [
        "# In python , you don't need to declare datatype\n",
        "n1 = 4\n",
        "n2 = 2.34\n",
        "age = 18\n",
        "myStr = 'Suraj'\n",
        "print(type(n1))\n",
        "print(type(n2))\n",
        "print(type(myStr))\n",
        "# Typecasting\n",
        "print(int(n2))\n",
        "print(float(n1))\n",
        "print(\"My name is \"+ myStr + \" and age = \"+ str(age))\n"
      ],
      "metadata": {
        "id": "gP4zZ-FowOSm",
        "colab": {
          "base_uri": "https://localhost:8080/"
        },
        "outputId": "ae663646-0b59-4a22-c572-0f2a9eb0a324"
      },
      "execution_count": 3,
      "outputs": [
        {
          "output_type": "stream",
          "name": "stdout",
          "text": [
            "<class 'int'>\n",
            "<class 'float'>\n",
            "<class 'str'>\n",
            "2\n",
            "4.0\n",
            "My name is Suraj and age = 18\n"
          ]
        }
      ]
    },
    {
      "cell_type": "code",
      "source": [
        "# Strings in Python\n",
        "comName = \"Antariksh\"\n",
        "print(f\"My name is {myStr} and age is {age}\") # Using f strings\n",
        "newStr = \"Hello , I am coding for Antariksh and it is cool\"\n",
        "print('Ant' in newStr)\n",
        "print('Cool' not in newStr)\n",
        "print(newStr[:12])\n",
        "print(newStr[-10:-1])  # Using negative indexing\n",
        "\n",
        "# Formatting the string using format() method\n",
        "print('Hola , I am {} and I am in {} committee'.format(myStr,comName))\n",
        "qty = 20\n",
        "model = \"DELL 'Inspiron'\"\n",
        "cost = 104.345\n",
        "sentence = \" We recently purchased {} laptops of category {} at {} dollars\"\n",
        "print(sentence.format(qty,model,cost))\n",
        "\n",
        "fact = 'The universe is {:,} years old' # {:,} is used as a thousand separator\n",
        "print(fact.format(13800000000))\n",
        "\n",
        "# Fix point number format\n",
        "print(\"The correct value of pi upto 3 decimal places is {:.3f}\".format(3.14159265359))\n",
        "print(\"The binary of 10 is {:b} and hexadecimal is {:X}\".format(10,10))"
      ],
      "metadata": {
        "id": "lMVyOj5g451o",
        "colab": {
          "base_uri": "https://localhost:8080/"
        },
        "outputId": "48572fe6-e556-4158-e25b-030fb07dc76b"
      },
      "execution_count": 10,
      "outputs": [
        {
          "output_type": "stream",
          "name": "stdout",
          "text": [
            "My name is Suraj and age is 18\n",
            "True\n",
            "True\n",
            "Hello , I am\n",
            "it is coo\n",
            "Hola , I am Suraj and I am in Antariksh committee\n",
            " We recently purchased 20 laptops of category DELL 'Inspiron' at 104.345 dollars\n",
            "The universe is 13,800,000,000 years old\n",
            "The correct value of pi upto 3 decimal places is 3.142\n",
            "The binary of 10 is 1010 and hexadecimal is A\n"
          ]
        }
      ]
    },
    {
      "cell_type": "code",
      "source": [
        "# Methods in Strings\n",
        "print(newStr.lower())\n",
        "print(newStr.upper())\n",
        "print(newStr.title())\n",
        "print(newStr.swapcase()) # Swaps the upper and lower cases\n",
        "print(newStr.split(' ')) # returns a list of words while identifying the separator\n",
        "print(newStr.replace('Antariksh','ISRO')) # Replaces the specific char/words\n",
        "print(newStr)\n",
        "print(newStr.count('a'))\n",
        "print(newStr.find('cod'))\n",
        "myTuple = ('Lara','is','just','19')\n",
        "x = \"_\".join(myTuple)  # Syntax - string.join(iterable)\n",
        "print(x)\n",
        "\n",
        "print(\"\\nHey\\rBro\")  # Carriage Return escape sequence\n",
        "# It returns the recent word\n",
        "print(\"This is a \\tTAB\")\n",
        "print(\"We are from the \\\"Aryabhatta\\\" community\")\n",
        "\n"
      ],
      "metadata": {
        "id": "ANGJQB7d6y3_",
        "colab": {
          "base_uri": "https://localhost:8080/"
        },
        "outputId": "052732c3-fcc2-4b85-b970-b6da8b51f3c2"
      },
      "execution_count": 12,
      "outputs": [
        {
          "output_type": "stream",
          "name": "stdout",
          "text": [
            "hello , i am coding for antariksh and it is cool\n",
            "HELLO , I AM CODING FOR ANTARIKSH AND IT IS COOL\n",
            "Hello , I Am Coding For Antariksh And It Is Cool\n",
            "hELLO , i AM CODING FOR aNTARIKSH AND IT IS COOL\n",
            "['Hello', ',', 'I', 'am', 'coding', 'for', 'Antariksh', 'and', 'it', 'is', 'cool']\n",
            "Hello , I am coding for ISRO and it is cool\n",
            "Hello , I am coding for Antariksh and it is cool\n",
            "3\n",
            "13\n",
            "Lara_is_just_19\n",
            "\n",
            "Hey\rBro\n",
            "This is a \tTAB\n",
            "We are from the \"Aryabhatta\" community\n"
          ]
        }
      ]
    },
    {
      "cell_type": "code",
      "source": [
        "# Lists in Python\n",
        "# Lists are ordered , changeable and indexed\n",
        "myList = [\"Pragyaan\",45,\"Prayaan\",560.34,True,False,\"Abhigyaan\"]\n",
        "# This is a list with int, float , string, boolean datatype\n",
        "print(len(myList))\n",
        "fruits = list(('mango','banana','apple','pineapple','jackfruit','dragonfruit'))\n",
        "# A list can also be made by using the list constructor\n",
        "print(fruits)\n",
        "print(type(fruits))\n",
        "print(fruits[2:5])\n",
        "print(myList[-5:]) # negative- indexing\n",
        "print(45 in myList)\n",
        "# Changing a range of values and then printing the list\n",
        "fruits[1:3]= ['grapes','kiwi']\n",
        "print(fruits)\n",
        "fruits.insert(3,'orange') # inserting new element at specified index\n",
        "print(fruits)\n"
      ],
      "metadata": {
        "id": "p_-xaTXz2S5P",
        "colab": {
          "base_uri": "https://localhost:8080/"
        },
        "outputId": "92dff40d-08db-4886-c4b1-5b8357056987"
      },
      "execution_count": 13,
      "outputs": [
        {
          "output_type": "stream",
          "name": "stdout",
          "text": [
            "7\n",
            "['mango', 'banana', 'apple', 'pineapple', 'jackfruit', 'dragonfruit']\n",
            "<class 'list'>\n",
            "['apple', 'pineapple', 'jackfruit']\n",
            "['Prayaan', 560.34, True, False, 'Abhigyaan']\n",
            "True\n",
            "['mango', 'grapes', 'kiwi', 'pineapple', 'jackfruit', 'dragonfruit']\n",
            "['mango', 'grapes', 'kiwi', 'orange', 'pineapple', 'jackfruit', 'dragonfruit']\n"
          ]
        }
      ]
    },
    {
      "cell_type": "code",
      "source": [
        "# Methods of Lists\n",
        "list1 = [1,2,3,4]\n",
        "list2 = [56,7,8,33]\n",
        "list1.append(\"Integers\") # It appends elements at the end of the list\n",
        "print(list1)\n",
        "list1.extend(list2)  # extend method adds any two lists/iterable also\n",
        "print(list1)\n",
        "tuple1 = ('h','o','w',True)\n",
        "list2.extend(tuple1) # added iterable(here tuple1) to the list2\n",
        "print(list2)\n",
        "\n",
        "list1.remove(56) # It removes the given element from the list\n",
        "print(list1)\n",
        "list1.pop(-4) # It removes element at the specified index\n",
        "print(list1)\n",
        "myList.pop() # If nothing is mentioned , it removes the last element\n",
        "print(myList)\n",
        "del list2 # It deletes the entire list\n",
        "# print(list2) This causes error becoz we've deleted the entire list\n",
        "del list1[2]\n",
        "print(list1)\n",
        "list1.clear()\n",
        "# clear() method empties the list but the list is still there with no content\n",
        "print(list1)\n",
        "fruits.sort()  # sorts the list alphanumerically ( but it is case - sensitive )\n",
        "print(fruits)\n",
        "intList = [45,34,67,8,99,253,12,345]\n",
        "# To sort the list in descending use the keyword argument reverse = True\n",
        "intList.sort(reverse = True)\n",
        "print(intList)"
      ],
      "metadata": {
        "id": "A4Et0L3HZc0q",
        "colab": {
          "base_uri": "https://localhost:8080/"
        },
        "outputId": "b1bbab99-d61f-4fcd-d1f4-894adcf8959c"
      },
      "execution_count": 14,
      "outputs": [
        {
          "output_type": "stream",
          "name": "stdout",
          "text": [
            "[1, 2, 3, 4, 'Integers']\n",
            "[1, 2, 3, 4, 'Integers', 56, 7, 8, 33]\n",
            "[56, 7, 8, 33, 'h', 'o', 'w', True]\n",
            "[1, 2, 3, 4, 'Integers', 7, 8, 33]\n",
            "[1, 2, 3, 4, 7, 8, 33]\n",
            "['Pragyaan', 45, 'Prayaan', 560.34, True, False]\n",
            "[1, 2, 4, 7, 8, 33]\n",
            "[]\n",
            "['dragonfruit', 'grapes', 'jackfruit', 'kiwi', 'mango', 'orange', 'pineapple']\n",
            "[345, 253, 99, 67, 45, 34, 12, 8]\n"
          ]
        }
      ]
    },
    {
      "cell_type": "code",
      "source": [
        "# Looping in Lists\n",
        "print(fruits)\n",
        "print(\"Printing individual fruits using for loop: \")\n",
        "for eachfruit in fruits :\n",
        "  print(eachfruit)\n",
        "print('\\nPrinting using range : ')\n",
        "for i in range(int(len(fruits)/2)) :\n",
        "  print(fruits[i])\n",
        "\n",
        "# List comprehension\n",
        "# Syntax list = [ expression for item in iterable if condition == True ]\n",
        "newList1 = [x for x in fruits if 'p' in x]\n",
        "print(newList1)\n",
        "newList2 = [x.upper() for x in fruits ] # We can modify exp , also we haven't given condition here\n",
        "print(newList2)\n",
        "newList3 = [x if 'RA' in x else '##' for x in newList2 ]\n",
        "# You can also mention condition in expression itself\n",
        "print(newList3)\n",
        "\n",
        "# Nested Lists\n",
        "List1 = [1,2,3]\n",
        "List2 = [2,45,67]\n",
        "List3 = ['hi',99,'yes']\n",
        "Biglist = [List1,List2,List3]\n",
        "Biglist"
      ],
      "metadata": {
        "id": "CIsqN3k9e6IF",
        "colab": {
          "base_uri": "https://localhost:8080/"
        },
        "outputId": "eb0af1dd-285d-4fad-c96c-7bb19d0b13e9"
      },
      "execution_count": 18,
      "outputs": [
        {
          "output_type": "stream",
          "name": "stdout",
          "text": [
            "['dragonfruit', 'grapes', 'jackfruit', 'kiwi', 'mango', 'orange', 'pineapple']\n",
            "Printing individual fruits using for loop: \n",
            "dragonfruit\n",
            "grapes\n",
            "jackfruit\n",
            "kiwi\n",
            "mango\n",
            "orange\n",
            "pineapple\n",
            "\n",
            "Printing using range : \n",
            "dragonfruit\n",
            "grapes\n",
            "jackfruit\n",
            "['grapes', 'pineapple']\n",
            "['DRAGONFRUIT', 'GRAPES', 'JACKFRUIT', 'KIWI', 'MANGO', 'ORANGE', 'PINEAPPLE']\n",
            "['DRAGONFRUIT', 'GRAPES', '##', '##', '##', 'ORANGE', '##']\n"
          ]
        },
        {
          "output_type": "execute_result",
          "data": {
            "text/plain": [
              "[[1, 2, 3], [2, 45, 67], ['hi', 99, 'yes']]"
            ]
          },
          "metadata": {},
          "execution_count": 18
        }
      ]
    },
    {
      "cell_type": "code",
      "source": [
        "# Tuples in Python\n",
        "# Tuples are ordered , unchangeable(immutable) and indexed\n",
        "myTuple = (34,\"Amanda\",12.23, \"Shelly\",False,True)\n",
        "print(myTuple)\n",
        "print(len(myTuple))\n",
        "print(myTuple.count(3))\n",
        "# If you wanna define a tuple with one element , add a comma at the end\n",
        "# Otherwise python won't consider it as tuple\n",
        "isTuple = (\"Hello\",)\n",
        "notTuple = (\"Hello\")\n",
        "print(type(isTuple))\n",
        "print(type(notTuple))\n",
        "noBraces = 1,2,3,4,4   # Parentheses are optional\n",
        "print(noBraces)\n",
        "print(myTuple[3:])\n",
        "\n",
        "# In tuples , you cannot add / remove elements directly\n",
        "# You can't change tuples but you can convert it to list and then change/add things\n",
        "tempList = list(myTuple)\n",
        "tempList[1] = 'Miranda'\n",
        "tempList.append('Nolan')\n",
        "myTuple = tuple(tempList)\n",
        "print(myTuple)\n",
        "\n",
        "# Unpacking tuples\n",
        "tuple1 = ('apple' , 'banana' , 'strawberry' , 'cherry' )\n",
        "(green , yellow , *red ) = tuple1 # Asterisk * gives list since no. of variables and elements is different\n",
        "print(green)\n",
        "print(yellow)\n",
        "print(red)"
      ],
      "metadata": {
        "id": "Ggiez6FoveVo",
        "colab": {
          "base_uri": "https://localhost:8080/"
        },
        "outputId": "87533f51-6e08-46ee-e21b-726fd9289eae"
      },
      "execution_count": 20,
      "outputs": [
        {
          "output_type": "stream",
          "name": "stdout",
          "text": [
            "(34, 'Amanda', 12.23, 'Shelly', False, True)\n",
            "6\n",
            "0\n",
            "<class 'tuple'>\n",
            "<class 'str'>\n",
            "(1, 2, 3, 4, 4)\n",
            "('Shelly', False, True)\n",
            "(34, 'Miranda', 12.23, 'Shelly', False, True, 'Nolan')\n",
            "apple\n",
            "banana\n",
            "['strawberry', 'cherry']\n"
          ]
        }
      ]
    },
    {
      "cell_type": "code",
      "source": [
        "# Sets in Python\n",
        "# Sets are unordered , unchangeable and not indexed and doesn't allow duplicate contents\n",
        "# But you can add / remove elements in sets\n",
        "mySet = {12,'str',True,1,2,'India'}\n",
        "print(mySet) # True and 1 are considered duplicates\n",
        "print(len(mySet))\n",
        "# Sets are only accessed by looping\n",
        "for item in mySet :\n",
        "  print(item)\n"
      ],
      "metadata": {
        "id": "2-s_94fW0lDv",
        "colab": {
          "base_uri": "https://localhost:8080/"
        },
        "outputId": "6bb60c92-4515-4bc3-e626-07ae5f19b834"
      },
      "execution_count": 21,
      "outputs": [
        {
          "output_type": "stream",
          "name": "stdout",
          "text": [
            "{True, 2, 'str', 12, 'India'}\n",
            "5\n",
            "True\n",
            "2\n",
            "str\n",
            "12\n",
            "India\n"
          ]
        }
      ]
    },
    {
      "cell_type": "code",
      "source": [
        "# Methods in Sets\n",
        "mySet.add('Kalaam')\n",
        "print(mySet)\n",
        "# To add two lists we used extend() method , but here we use update method\n",
        "set1 = {2,3,'abc',34,'ddd'}\n",
        "set2 = {False,6.78,'nope','ddd',34}\n",
        "set1.update(set2)\n",
        "print(set1)\n",
        "# We can also add any iterable using update() method\n",
        "\n",
        "# We have remove and discard method to remove contents\n",
        "# Where remove() raises error if there's no such content ,\n",
        "# while discard() doesn't\n",
        "set1.remove(2)\n",
        "set1.discard(False)\n",
        "set1.discard('hi')   # doesn't give error\n",
        "print(set1)\n",
        "# The clear() method empties the set and del() completely erases it\n",
        "# The pop() method can be used but it'll delete any random element\n",
        "\n",
        "set_1 = {'ck',12,'oh','ah',345}\n",
        "set_2 = {'no','oh',12,'haha','lol'}\n",
        "set_3 = set_1.intersection(set_2)  # will return the common items\n",
        "print(set_3)"
      ],
      "metadata": {
        "id": "rkriGtls3DCR",
        "colab": {
          "base_uri": "https://localhost:8080/"
        },
        "outputId": "552b9773-f39b-41a7-c38d-00366ff5bd32"
      },
      "execution_count": 22,
      "outputs": [
        {
          "output_type": "stream",
          "name": "stdout",
          "text": [
            "{True, 2, 'str', 12, 'Kalaam', 'India'}\n",
            "{False, 2, 3, 34, 'nope', 6.78, 'ddd', 'abc'}\n",
            "{3, 34, 'nope', 6.78, 'ddd', 'abc'}\n",
            "{'oh', 12}\n"
          ]
        }
      ]
    },
    {
      "cell_type": "code",
      "source": [
        "# Dictionaries in Python\n",
        "# A dictionary is a collection which is ordered , changeable and do not allow duplicates.\n",
        "# Dictionary items are presented in key:value pairs\n",
        "\n",
        "mobile = { 'brand':'OnePlus' , 'RAM' : 6 , 'colors' : ['blue', 'black', 'white'] , 'cost' : 32000 }\n",
        "print(mobile)\n",
        "print(len(mobile))\n",
        "print(mobile['colors'])  # Accessing the values of a key\n",
        "\n",
        "# It can also be constructed using the dictionary const.\n",
        "details = dict(name = \"Rancho\", age = 24 , hasJob = False , dob = 1995 )\n",
        "print(details)"
      ],
      "metadata": {
        "id": "_4V2m08L65ju",
        "colab": {
          "base_uri": "https://localhost:8080/"
        },
        "outputId": "cac05354-3d35-4962-9550-16e26f2cad64"
      },
      "execution_count": 23,
      "outputs": [
        {
          "output_type": "stream",
          "name": "stdout",
          "text": [
            "{'brand': 'OnePlus', 'RAM': 6, 'colors': ['blue', 'black', 'white'], 'cost': 32000}\n",
            "4\n",
            "['blue', 'black', 'white']\n",
            "{'name': 'Rancho', 'age': 24, 'hasJob': False, 'dob': 1995}\n"
          ]
        }
      ]
    },
    {
      "cell_type": "code",
      "source": [
        "# Methods in dictionary\n",
        "print(mobile['RAM'])\n",
        "print(mobile.get('cost')) # get() method also gives value\n",
        "print(mobile.keys())   # keys() method gives all keys\n",
        "print(mobile.values())  # values() method gives all values\n",
        "\n",
        "# Adding new element\n",
        "mobile['launchdate'] =2023\n",
        "print(mobile)\n",
        "# You can also use the update method to add element\n",
        "\n",
        "# Changing a value\n",
        "mobile['brand'] = 'Oppo'\n",
        "print(mobile.values())\n",
        "print(mobile.items())\n",
        "# You can also use the update method to change element\n",
        "\n",
        "# pop method removes an item and popitem() removes last one\n",
        "mobile.pop('brand')\n",
        "print(mobile)\n",
        "mobile.popitem()\n",
        "print(mobile)\n",
        "\n",
        "# You can copy a dictionary by using copy() method\n"
      ],
      "metadata": {
        "id": "DXU-pHQN9vNC",
        "colab": {
          "base_uri": "https://localhost:8080/"
        },
        "outputId": "6387a7a8-fbbb-416f-a706-371f7ec37ece"
      },
      "execution_count": 25,
      "outputs": [
        {
          "output_type": "stream",
          "name": "stdout",
          "text": [
            "6\n",
            "32000\n",
            "dict_keys(['RAM', 'colors', 'cost'])\n",
            "dict_values([6, ['blue', 'black', 'white'], 32000])\n",
            "{'RAM': 6, 'colors': ['blue', 'black', 'white'], 'cost': 32000, 'launchdate': 2023}\n",
            "dict_values([6, ['blue', 'black', 'white'], 32000, 2023, 'Oppo'])\n",
            "dict_items([('RAM', 6), ('colors', ['blue', 'black', 'white']), ('cost', 32000), ('launchdate', 2023), ('brand', 'Oppo')])\n",
            "{'RAM': 6, 'colors': ['blue', 'black', 'white'], 'cost': 32000, 'launchdate': 2023}\n",
            "{'RAM': 6, 'colors': ['blue', 'black', 'white'], 'cost': 32000}\n"
          ]
        }
      ]
    },
    {
      "cell_type": "code",
      "source": [
        "# Looping in dictionaries\n",
        "for x in mobile:  # by default returns the keys\n",
        "  print(x)\n",
        "# Returning the values\n",
        "for x in mobile:\n",
        "  print(mobile[x])\n",
        "# Returning the items\n",
        "for x in mobile.items() :\n",
        "  print(x)\n",
        "\n",
        "# Nested dictionary\n",
        "child1 = {\"name\":\"Arjun\", 'age' : 21}\n",
        "child2 = {\"name\":\"Bheem\", 'age' : 27}\n",
        "child3 = {\"name\":\"Nakul\", 'age' : 18}\n",
        "pandavas = {'child1' : child1 , 'child2' : child2 , 'child3' : child3}\n",
        "print(pandavas)\n",
        "print(pandavas['child3']['age'])  # Accessing an element\n",
        "#pandavas\n",
        "\n",
        "for key,value in pandavas.items() :\n",
        "  print(key)\n",
        "  print(value)"
      ],
      "metadata": {
        "id": "Ad2hthiOBxUn",
        "colab": {
          "base_uri": "https://localhost:8080/"
        },
        "outputId": "e71f486f-c483-4cdb-8fe4-fa04501c45e8"
      },
      "execution_count": 26,
      "outputs": [
        {
          "output_type": "stream",
          "name": "stdout",
          "text": [
            "RAM\n",
            "colors\n",
            "cost\n",
            "6\n",
            "['blue', 'black', 'white']\n",
            "32000\n",
            "('RAM', 6)\n",
            "('colors', ['blue', 'black', 'white'])\n",
            "('cost', 32000)\n",
            "{'child1': {'name': 'Arjun', 'age': 21}, 'child2': {'name': 'Bheem', 'age': 27}, 'child3': {'name': 'Nakul', 'age': 18}}\n",
            "18\n",
            "child1\n",
            "{'name': 'Arjun', 'age': 21}\n",
            "child2\n",
            "{'name': 'Bheem', 'age': 27}\n",
            "child3\n",
            "{'name': 'Nakul', 'age': 18}\n"
          ]
        }
      ]
    },
    {
      "cell_type": "markdown",
      "source": [
        "# ***Lecture 2 - Python ( Till functions )***"
      ],
      "metadata": {
        "id": "2uK86a1UK6Nl"
      }
    },
    {
      "cell_type": "code",
      "source": [
        "# If- else in Python\n",
        "\n",
        "# Using nested if- else here\n",
        "a = 50\n",
        "b = 45\n",
        "c = 7\n",
        "if a > b :\n",
        "  if a > c :\n",
        "    print(\"a is greater !\")\n",
        "  else :\n",
        "    print(\"c is greater\")\n",
        "else :\n",
        "  if b > c :\n",
        "    print(\"b is greater\")\n",
        "  else :\n",
        "    print(\"c is greater\")\n",
        "\n",
        "# Short hand if - used to print only one statement\n",
        "age = 13\n",
        "if age < 18 : print(\"You're Young\")\n",
        "\n",
        "# Short hand if-else statement (Here elif doesn't work)\n",
        "# Also called as Ternary Operator\n",
        "bill = 200\n",
        "print(\"We'll pay \") if bill < 200 else print(\"We'll see to it\") if bill==200 else print(\"We'll never pay\")\n",
        "\n",
        "num1 = 45\n",
        "num2 = 99\n",
        "if num1 > num2 and num1 > 50 :\n",
        "  print(\"num1 is greater than num2 and also more than 50\")\n",
        "else:\n",
        "  print(\"I don't wanna write anything now \")"
      ],
      "metadata": {
        "id": "xRAVf2QaH7I4"
      },
      "execution_count": null,
      "outputs": []
    },
    {
      "cell_type": "code",
      "source": [
        "# While loops :-\n",
        "i = 0\n",
        "while i < 10 :\n",
        "  if i == 7 :\n",
        "    break\n",
        "  print(i)\n",
        "  i+=1\n",
        "print('\\n')\n",
        "org = ['I','S','R','O']\n",
        "i = 0\n",
        "while i < len(org) :\n",
        "  print(org[i])\n",
        "  i += 1\n",
        "else :\n",
        "  print(\"Loop has executed and now else statement too\")\n",
        "# With else ,we can run a block of code once when the condition no longer is true:\n"
      ],
      "metadata": {
        "id": "7YQRTqcSAel9"
      },
      "execution_count": null,
      "outputs": []
    },
    {
      "cell_type": "code",
      "source": [
        "# For loops :-\n",
        "# It is used to iterate any iterable ( lists,tuples,sets,dictionaries , strings )\n",
        "# Iterating for a string :\n",
        "name = \"Suraj\"\n",
        "for char in name :\n",
        "  print(char)\n",
        "print('\\n')\n",
        "\n",
        "for i in range(3) : # For using range function with one parameter\n",
        "  print(i)\n",
        "print('\\n')\n",
        "for i in range(4,9) : # Using two parameters\n",
        "  print(i)\n",
        "print('\\n')\n",
        "# Using three parameters where the 3rd one is step size (by default is 1 )\n",
        "for i in range(5,35,4) :\n",
        "  print(i)\n",
        "\n",
        "print('\\n')\n",
        "string = \"Python\"\n",
        "for i in string :\n",
        "  if i == 'h' :\n",
        "    continue         # Used continue statement\n",
        "  print(i)\n",
        "\n",
        "print('\\n')\n",
        "# Nested for - loops\n",
        "adj = ['fat','gorgeous', 'ugly']\n",
        "stars = ['Karina','Kartik','Kriti']\n",
        "for i in adj :\n",
        "  for j in stars :\n",
        "    print(i,j)"
      ],
      "metadata": {
        "id": "qdqwwlbFZxND"
      },
      "execution_count": null,
      "outputs": []
    },
    {
      "cell_type": "code",
      "source": [
        "# Functions in Python\n",
        "# Basic Calculator\n",
        "def calci (a,b,choice) :  # Here a,b,choice are called as parameters\n",
        "  if choice == 1 :\n",
        "    return a + b\n",
        "  elif choice == 2 :\n",
        "    return a - b\n",
        "  elif choice == 3 :\n",
        "    return a*b\n",
        "  elif choice == 4 :\n",
        "    return a/b\n",
        "  elif choice == 5 :\n",
        "    return a%b\n",
        "  else :\n",
        "    print('Invalid choice')\n",
        "# Calling the function\n",
        "calci (5,6,2)\n",
        "# Here 5,6,2 are called are arguments\n",
        "\n",
        "# Using the varargs (*args)\n",
        "# Varargs are useful when you want to create functions that can handle different numbers of inputs\n",
        "# without explicitly specifying the exact number of arguments\n",
        "# Here the function receives a tuple of arguments\n",
        "def sum_all (*args) :\n",
        "  total = 0\n",
        "  for i in args :\n",
        "    total = total + i\n",
        "  return total\n",
        "\n",
        "print(sum_all(1,2,3,4))\n",
        "sum_all(23,45,47,22,44,6,7,8,9)\n",
        "\n",
        "# Using normal keyword arguments or kwargs\n",
        "def myfunc ( sys1 , sys2 , sys3 ) :\n",
        "  print(f\"There are many OS like {sys3} , {sys1} , {sys2}\")\n",
        "\n",
        "myfunc(sys1='Windows' , sys2 = 'Linux' , sys3 = 'Mac')\n",
        "# Here we used as key = value syntax to send arguments\n",
        "\n",
        "# Using arbitrary keyword arguments or (**kwargs)\n",
        "# Here the function receives a dictionary of arguments\n",
        "def details (name , age , **kwargs) :  # Combining with regular arguments\n",
        "  print(f\"NAME : {name}\")\n",
        "  print(f\"AGE : {age}\")\n",
        "  for key , value in kwargs.items() :\n",
        "    print(f\"{key.upper()} : {value}\")\n",
        "details(\"Anna\",23,city = \"Mussoorie\",occupation = \"Engineer\")\n",
        "\n",
        "# Defining default values and then updating/changing it as per the user\n",
        "def student_info (**details) :\n",
        "  info = { 'name' : 'unknown' , 'roll_no' : 000 , 'div' : '|-|'}\n",
        "  info.update(details)\n",
        "  return info\n",
        "\n",
        "student1 = student_info(name = 'Vikram', roll_no = 120 , div = 'IT')\n",
        "student2 = student_info(name = 'Sakshi', roll_no = 145 , div = \"Comps\")\n",
        "print(student1)\n",
        "print(student2)\n",
        "\n",
        "# Showcasing default parameter value\n",
        "def func1 (country = 'India') :\n",
        "  print(f'{country} is a great place for tourism !!')\n",
        "func1()\n",
        "func1('Sweden')\n",
        "func1('Dubai')\n",
        "\n",
        "# Passing tuple as an argument\n",
        "def func2 (mytuple) :\n",
        "  print(\"Got your tuple as an argument to me :\")\n",
        "  for item in mytuple:\n",
        "    print(item)\n",
        "mytuple = ('Jason',23,'NewYork',25.67)\n",
        "func2(mytuple)\n",
        "\n",
        "# Recursion Example\n",
        "def recursion(num) :\n",
        "  if num > 0 :\n",
        "    result = num + recursion(num-1)\n",
        "    print(result)\n",
        "  else :\n",
        "    result = 0\n",
        "  return result\n",
        "recursion(6)"
      ],
      "metadata": {
        "colab": {
          "base_uri": "https://localhost:8080/"
        },
        "id": "mcLGtdcokla-",
        "outputId": "88d2d155-f259-4dd5-a1a7-985dcf23bf71"
      },
      "execution_count": 43,
      "outputs": [
        {
          "output_type": "stream",
          "name": "stdout",
          "text": [
            "10\n",
            "There are many OS like Mac , Windows , Linux\n",
            "NAME : Anna\n",
            "AGE : 23\n",
            "CITY : Mussoorie\n",
            "OCCUPATION : Engineer\n",
            "{'name': 'Vikram', 'roll_no': 120, 'div': 'IT'}\n",
            "{'name': 'Sakshi', 'roll_no': 145, 'div': 'Comps'}\n",
            "India is a great place for tourism !!\n",
            "Sweden is a great place for tourism !!\n",
            "Dubai is a great place for tourism !!\n",
            "Got your tuple as an argument to me :\n",
            "Jason\n",
            "23\n",
            "NewYork\n",
            "25.67\n",
            "1\n",
            "3\n",
            "6\n",
            "10\n",
            "15\n",
            "21\n"
          ]
        },
        {
          "output_type": "execute_result",
          "data": {
            "text/plain": [
              "21"
            ]
          },
          "metadata": {},
          "execution_count": 43
        }
      ]
    },
    {
      "cell_type": "code",
      "source": [
        "# Lambda Functions\n",
        "# Use lambda functions when an anonymous function is required for a short period of time.\n",
        "# Syntax -  lambda arguments : expression\n",
        "\n",
        "func1 = lambda a,b : a*b\n",
        "print(func1(5,5))\n",
        "\n",
        "func2 = lambda a,b,c : a/b + c\n",
        "print(func2(10,5,11))\n",
        "\n",
        "# Making functions that doubles and triples whatever no. we send to it\n",
        "def newfunc (k) :\n",
        "  return lambda a : a * k\n",
        "doubler = newfunc(2)\n",
        "tripler = newfunc(3)\n",
        "print(doubler(15))\n",
        "print(tripler(6))"
      ],
      "metadata": {
        "colab": {
          "base_uri": "https://localhost:8080/"
        },
        "id": "elpeTNXVIQ15",
        "outputId": "32c1024a-9c3b-4ed9-f583-26a361e2b814"
      },
      "execution_count": 46,
      "outputs": [
        {
          "output_type": "stream",
          "name": "stdout",
          "text": [
            "25\n",
            "13.0\n",
            "30\n",
            "18\n"
          ]
        }
      ]
    }
  ]
}