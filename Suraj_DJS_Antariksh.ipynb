{
  "nbformat": 4,
  "nbformat_minor": 0,
  "metadata": {
    "colab": {
      "provenance": [],
      "gpuType": "T4",
      "authorship_tag": "ABX9TyMOYw9wxb2NdaJHGUmRotbr",
      "include_colab_link": true
    },
    "kernelspec": {
      "name": "python3",
      "display_name": "Python 3"
    },
    "language_info": {
      "name": "python"
    }
  },
  "cells": [
    {
      "cell_type": "markdown",
      "metadata": {
        "id": "view-in-github",
        "colab_type": "text"
      },
      "source": [
        "<a href=\"https://colab.research.google.com/github/Suraj945gh/Antariksh/blob/main/Suraj_DJS_Antariksh.ipynb\" target=\"_parent\"><img src=\"https://colab.research.google.com/assets/colab-badge.svg\" alt=\"Open In Colab\"/></a>"
      ]
    },
    {
      "cell_type": "markdown",
      "source": [
        "# ***Lecture 1 - Python ( Till dictionaries )***"
      ],
      "metadata": {
        "id": "GnO5eWCnLLRD"
      }
    },
    {
      "cell_type": "code",
      "execution_count": null,
      "metadata": {
        "id": "4i9f60LZlO-Z"
      },
      "outputs": [],
      "source": [
        "# Arithmetic Operators in Python\n",
        "a = 5\n",
        "b = 10\n",
        "print(a*b)\n",
        "print(a/b)\n",
        "print(a//b) # This is called as floor division and it gives only int values\n",
        "print(a+b)\n",
        "print(a-b)\n",
        "a = 8\n",
        "b = 2\n",
        "print(a**b) # This is exponentiation operator , i.e. here 8^2"
      ]
    },
    {
      "cell_type": "code",
      "source": [
        "# Using Complex Nos. in Python\n",
        "import cmath # Importing this module for complex calculations\n",
        "import numpy\n",
        "a = 5\n",
        "b = 3\n",
        "z = complex(a,b) # function which makes 2 nos. complex\n",
        "print(z)\n",
        "# Explicitly making complex nos.\n",
        "z1 = 5 + 9j\n",
        "z2 = 10 - 4j\n",
        "# Accessing their real and imaginary parts\n",
        "print(z1.real)\n",
        "print(z2.real)\n",
        "print(z1.imag)\n",
        "print(z2.imag)\n",
        "# Adding both the complex nos.\n",
        "print(z1 + z2)\n",
        "print(z1*z2)\n",
        "# Getting the absolute values\n",
        "print(abs(z1))\n",
        "print(abs(z2))\n",
        "print(cmath.polar(z1)) # returns (r,theta )\n",
        "print(numpy.conj(z1))  # Getiing the conjugate of z1"
      ],
      "metadata": {
        "id": "W5dJo0y-rbJe"
      },
      "execution_count": null,
      "outputs": []
    },
    {
      "cell_type": "code",
      "source": [
        "# In python , you don't need to declare datatype\n",
        "n1 = 4\n",
        "n2 = 2.34\n",
        "age = 18\n",
        "myStr = 'Suraj'\n",
        "print(type(n1))\n",
        "print(type(n2))\n",
        "print(type(myStr))\n",
        "# Typecasting\n",
        "print(int(n2))\n",
        "print(float(n1))\n",
        "print(\"My name is \"+ myStr + \" and age = \"+ str(age))\n"
      ],
      "metadata": {
        "id": "gP4zZ-FowOSm"
      },
      "execution_count": null,
      "outputs": []
    },
    {
      "cell_type": "code",
      "source": [
        "# Strings in Python\n",
        "comName = \"Antariksh\"\n",
        "print(f\"My name is {myStr} and age is {age}\") # Using f strings\n",
        "newStr = \"Hello , I am coding for Antariksh and it is cool\"\n",
        "print('Ant' in newStr)\n",
        "print('Cool' not in newStr)\n",
        "print(newStr[:12])\n",
        "print(newStr[-10:-1])  # Using negative indexing\n",
        "\n",
        "# Formatting the string using format() method\n",
        "print('Hola , I am {} and I am in {} committee'.format(myStr,comName))\n",
        "qty = 20\n",
        "model = \"DELL 'Inspiron'\"\n",
        "cost = 104.345\n",
        "sentence = \" We recently purchased {} laptops of category {} at {} dollars\"\n",
        "print(sentence.format(qty,model,cost))\n",
        "\n",
        "fact = 'The universe is {:,} years old' # {:,} is used as a thousand separator\n",
        "print(fact.format(13800000000))\n",
        "\n",
        "# Fix point number format\n",
        "print(\"The correct value of pi upto 3 decimal places is {:.3f}\".format(3.14159265359))\n",
        "print(\"The binary of 10 is {:b} and hexadecimal is {:X}\".format(10,10))"
      ],
      "metadata": {
        "id": "lMVyOj5g451o"
      },
      "execution_count": null,
      "outputs": []
    },
    {
      "cell_type": "code",
      "source": [
        "# Methods in Strings\n",
        "print(newStr.lower())\n",
        "print(newStr.upper())\n",
        "print(newStr.title())\n",
        "print(newStr.swapcase()) # Swaps the upper and lower cases\n",
        "print(newStr.split(' ')) # returns a list of words while identifying the separator\n",
        "print(newStr.replace('Antariksh','ISRO')) # Replaces the specific char/words\n",
        "print(newStr)\n",
        "print(newStr.count('a'))\n",
        "print(newStr.find('cod'))\n",
        "myTuple = ('Lara','is','just','19')\n",
        "x = \"_\".join(myTuple)  # Syntax - string.join(iterable)\n",
        "print(x)\n",
        "\n",
        "print(\"\\nHey\\rBro\")  # Carriage Return escape sequence\n",
        "# It returns the recent word\n",
        "print(\"This is a \\tTAB\")\n",
        "print(\"We are from the \\\"Aryabhatta\\\" community\")\n",
        "\n"
      ],
      "metadata": {
        "id": "ANGJQB7d6y3_"
      },
      "execution_count": null,
      "outputs": []
    },
    {
      "cell_type": "code",
      "source": [
        "# Lists in Python\n",
        "# Lists are ordered , changeable and indexed\n",
        "myList = [\"Pragyaan\",45,\"Prayaan\",560.34,True,False,\"Abhigyaan\"]\n",
        "# This is a list with int, float , string, boolean datatype\n",
        "print(len(myList))\n",
        "fruits = list(('mango','banana','apple','pineapple','jackfruit','dragonfruit'))\n",
        "# A list can also be made by using the list constructor\n",
        "print(fruits)\n",
        "print(type(fruits))\n",
        "print(fruits[2:5])\n",
        "print(myList[-5:]) # negative- indexing\n",
        "print(45 in myList)\n",
        "# Changing a range of values and then printing the list\n",
        "fruits[1:3]= ['grapes','kiwi']\n",
        "print(fruits)\n",
        "fruits.insert(3,'orange') # inserting new element at specified index\n",
        "print(fruits)\n"
      ],
      "metadata": {
        "id": "p_-xaTXz2S5P"
      },
      "execution_count": null,
      "outputs": []
    },
    {
      "cell_type": "code",
      "source": [
        "# Methods of Lists\n",
        "list1 = [1,2,3,4]\n",
        "list2 = [56,7,8,33]\n",
        "list1.append(\"Integers\") # It appends elements at the end of the list\n",
        "print(list1)\n",
        "list1.extend(list2)  # extend method adds any two lists/iterable also\n",
        "print(list1)\n",
        "tuple1 = ('h','o','w',True)\n",
        "list2.extend(tuple1) # added iterable(here tuple1) to the list2\n",
        "print(list2)\n",
        "\n",
        "list1.remove(56) # It removes the given element from the list\n",
        "print(list1)\n",
        "list1.pop(-4) # It removes element at the specified index\n",
        "print(list1)\n",
        "myList.pop() # If nothing is mentioned , it removes the last element\n",
        "print(myList)\n",
        "del list2 # It deletes the entire list\n",
        "# print(list2) This causes error becoz we've deleted the entire list\n",
        "del list1[2]\n",
        "print(list1)\n",
        "list1.clear()\n",
        "# clear() method empties the list but the list is still there with no content\n",
        "print(list1)\n",
        "fruits.sort()  # sorts the list alphanumerically ( but it is case - sensitive )\n",
        "print(fruits)\n",
        "intList = [45,34,67,8,99,253,12,345]\n",
        "# To sort the list in descending use the keyword argument reverse = True\n",
        "intList.sort(reverse = True)\n",
        "print(intList)"
      ],
      "metadata": {
        "id": "A4Et0L3HZc0q"
      },
      "execution_count": null,
      "outputs": []
    },
    {
      "cell_type": "code",
      "source": [
        "# Looping in Lists\n",
        "print(fruits)\n",
        "print(\"Printing individual fruits using for loop: \")\n",
        "for eachfruit in fruits :\n",
        "  print(eachfruit)\n",
        "print('\\nPrinting using range : ')\n",
        "for i in range(int(len(fruits)/2)) :\n",
        "  print(fruits[i])\n",
        "\n",
        "# List comprehension\n",
        "# Syntax list = [ expression for item in iterable if condition == True ]\n",
        "newList1 = [x for x in fruits if 'p' in x]\n",
        "print(newList1)\n",
        "newList2 = [x.upper() for x in fruits ] # We can modify exp , also we haven't given condition here\n",
        "print(newList2)\n",
        "newList3 = [x if 'RA' in x else '##' for x in newList2 ]\n",
        "# You can also mention condition in expression itself\n",
        "print(newList3)\n",
        "\n",
        "# Nested Lists\n",
        "List1 = [1,2,3]\n",
        "List2 = [2,45,67]\n",
        "List3 = ['hi',99,'yes']\n",
        "Biglist = [List1,List2,List3]\n",
        "Biglist"
      ],
      "metadata": {
        "id": "CIsqN3k9e6IF"
      },
      "execution_count": null,
      "outputs": []
    },
    {
      "cell_type": "code",
      "source": [
        "# Tuples in Python\n",
        "# Tuples are ordered , unchangeable(immutable) and indexed\n",
        "myTuple = (34,\"Amanda\",12.23, \"Shelly\",False,True)\n",
        "print(myTuple)\n",
        "print(len(myTuple))\n",
        "print(myTuple.count(3))\n",
        "# If you wanna define a tuple with one element , add a comma at the end\n",
        "# Otherwise python won't consider it as tuple\n",
        "isTuple = (\"Hello\",)\n",
        "notTuple = (\"Hello\")\n",
        "print(type(isTuple))\n",
        "print(type(notTuple))\n",
        "noBraces = 1,2,3,4,4   # Parentheses are optional\n",
        "print(noBraces)\n",
        "print(myTuple[3:])\n",
        "\n",
        "# In tuples , you cannot add / remove elements directly\n",
        "# You can't change tuples but you can convert it to list and then change/add things\n",
        "tempList = list(myTuple)\n",
        "tempList[1] = 'Miranda'\n",
        "tempList.append('Nolan')\n",
        "myTuple = tuple(tempList)\n",
        "print(myTuple)\n",
        "\n",
        "# Unpacking tuples\n",
        "tuple1 = ('apple' , 'banana' , 'strawberry' , 'cherry' )\n",
        "(green , yellow , *red ) = tuple1 # Asterisk * gives list since no. of variables and elements is different\n",
        "print(green)\n",
        "print(yellow)\n",
        "print(red)"
      ],
      "metadata": {
        "id": "Ggiez6FoveVo"
      },
      "execution_count": null,
      "outputs": []
    },
    {
      "cell_type": "code",
      "source": [
        "# Sets in Python\n",
        "# Sets are unordered , unchangeable and not indexed and doesn't allow duplicate contents\n",
        "# But you can add / remove elements in sets\n",
        "mySet = {12,'str',True,1,2,'India'}\n",
        "print(mySet) # True and 1 are considered duplicates\n",
        "print(len(mySet))\n",
        "# Sets are only accessed by looping\n",
        "for item in mySet :\n",
        "  print(item)\n"
      ],
      "metadata": {
        "id": "2-s_94fW0lDv"
      },
      "execution_count": null,
      "outputs": []
    },
    {
      "cell_type": "code",
      "source": [
        "# Methods in Sets\n",
        "mySet.add('Kalaam')\n",
        "print(mySet)\n",
        "# To add two lists we used extend() method , but here we use update method\n",
        "set1 = {2,3,'abc',34,'ddd'}\n",
        "set2 = {False,6.78,'nope','ddd',34}\n",
        "set1.update(set2)\n",
        "print(set1)\n",
        "# We can also add any iterable using update() method\n",
        "\n",
        "# We have remove and discard method to remove contents\n",
        "# Where remove() raises error if there's no such content ,\n",
        "# while discard() doesn't\n",
        "set1.remove(2)\n",
        "set1.discard(False)\n",
        "set1.discard('hi')   # doesn't give error\n",
        "print(set1)\n",
        "# The clear() method empties the set and del() completely erases it\n",
        "# The pop() method can be used but it'll delete any random element\n",
        "\n",
        "set_1 = {'ck',12,'oh','ah',345}\n",
        "set_2 = {'no','oh',12,'haha','lol'}\n",
        "set_3 = set_1.intersection(set_2)  # will return the common items\n",
        "print(set_3)"
      ],
      "metadata": {
        "id": "rkriGtls3DCR"
      },
      "execution_count": null,
      "outputs": []
    },
    {
      "cell_type": "code",
      "source": [
        "# Dictionaries in Python\n",
        "# A dictionary is a collection which is ordered , changeable and do not allow duplicates.\n",
        "# Dictionary items are presented in key:value pairs\n",
        "\n",
        "mobile = { 'brand':'OnePlus' , 'RAM' : 6 , 'colors' : ['blue', 'black', 'white'] , 'cost' : 32000 }\n",
        "print(mobile)\n",
        "print(len(mobile))\n",
        "print(mobile['colors'])  # Accessing the values of a key\n",
        "\n",
        "# It can also be constructed using the dictionary const.\n",
        "details = dict(name = \"Rancho\", age = 24 , hasJob = False , dob = 1995 )\n",
        "print(details)"
      ],
      "metadata": {
        "id": "_4V2m08L65ju"
      },
      "execution_count": null,
      "outputs": []
    },
    {
      "cell_type": "code",
      "source": [
        "# Methods in dictionary\n",
        "print(mobile['RAM'])\n",
        "print(mobile.get('cost')) # get() method also gives value\n",
        "print(mobile.keys())   # keys() method gives all keys\n",
        "print(mobile.values())  # values() method gives all values\n",
        "\n",
        "# Adding new element\n",
        "mobile['launchdate'] =2023\n",
        "print(mobile)\n",
        "# You can also use the update method to add element\n",
        "\n",
        "# Changing a value\n",
        "mobile['brand'] = 'Oppo'\n",
        "print(mobile.values())\n",
        "print(mobile.items())\n",
        "# You can also use the update method to change element\n",
        "\n",
        "# pop method removes an item and popitem() removes last one\n",
        "mobile.pop('brand')\n",
        "print(mobile)\n",
        "mobile.popitem()\n",
        "print(mobile)\n",
        "\n",
        "# You can copy a dictionary by using copy() method\n"
      ],
      "metadata": {
        "id": "DXU-pHQN9vNC"
      },
      "execution_count": null,
      "outputs": []
    },
    {
      "cell_type": "code",
      "source": [
        "# Looping in dictionaries\n",
        "for x in mobile:  # by default returns the keys\n",
        "  print(x)\n",
        "# Returning the values\n",
        "for x in mobile:\n",
        "  print(mobile[x])\n",
        "# Returning the items\n",
        "for x in mobile.items() :\n",
        "  print(x)\n",
        "\n",
        "# Nested dictionary\n",
        "child1 = {\"name\":\"Arjun\", 'age' : 21}\n",
        "child2 = {\"name\":\"Bheem\", 'age' : 27}\n",
        "child3 = {\"name\":\"Nakul\", 'age' : 18}\n",
        "pandavas = {'child1' : child1 , 'child2' : child2 , 'child3' : child3}\n",
        "print(pandavas)\n",
        "print(pandavas['child3']['age'])  # Accessing an element\n",
        "#pandavas\n",
        "\n",
        "for key,value in pandavas.items() :\n",
        "  print(key)\n",
        "  print(value)"
      ],
      "metadata": {
        "id": "Ad2hthiOBxUn"
      },
      "execution_count": null,
      "outputs": []
    },
    {
      "cell_type": "markdown",
      "source": [
        "# ***Lecture 2 - Python ( Till functions )***"
      ],
      "metadata": {
        "id": "2uK86a1UK6Nl"
      }
    },
    {
      "cell_type": "code",
      "source": [
        "# If- else in Python\n",
        "\n",
        "# Using nested if- else here\n",
        "a = 50\n",
        "b = 45\n",
        "c = 7\n",
        "if a > b :\n",
        "  if a > c :\n",
        "    print(\"a is greater !\")\n",
        "  else :\n",
        "    print(\"c is greater\")\n",
        "else :\n",
        "  if b > c :\n",
        "    print(\"b is greater\")\n",
        "  else :\n",
        "    print(\"c is greater\")\n",
        "\n",
        "# Short hand if - used to print only one statement\n",
        "age = 13\n",
        "if age < 18 : print(\"You're Young\")\n",
        "\n",
        "# Short hand if-else statement (Here elif doesn't work)\n",
        "# Also called as Ternary Operator\n",
        "bill = 200\n",
        "print(\"We'll pay \") if bill < 200 else print(\"We'll see to it\") if bill==200 else print(\"We'll never pay\")\n",
        "\n",
        "num1 = 45\n",
        "num2 = 99\n",
        "if num1 > num2 and num1 > 50 :\n",
        "  print(\"num1 is greater than num2 and also more than 50\")\n",
        "else:\n",
        "  print(\"I don't wanna write anything now \")"
      ],
      "metadata": {
        "id": "xRAVf2QaH7I4",
        "colab": {
          "base_uri": "https://localhost:8080/"
        },
        "outputId": "a89c8d35-e12b-4b2d-f8d1-9f5a0446978a"
      },
      "execution_count": null,
      "outputs": [
        {
          "output_type": "stream",
          "name": "stdout",
          "text": [
            "a is greater !\n",
            "You're Young\n",
            "We'll see to it\n",
            "I don't wanna write anything now \n"
          ]
        }
      ]
    },
    {
      "cell_type": "code",
      "source": [
        "# While loops :-\n",
        "i = 0\n",
        "while i < 10 :\n",
        "  if i == 7 :\n",
        "    break\n",
        "  print(i)\n",
        "  i+=1\n",
        "print('\\n')\n",
        "org = ['I','S','R','O']\n",
        "i = 0\n",
        "while i < len(org) :\n",
        "  print(org[i])\n",
        "  i += 1\n",
        "else :\n",
        "  print(\"Loop has executed and now else statement too\")\n",
        "# With else ,we can run a block of code once when the condition no longer is true:\n"
      ],
      "metadata": {
        "colab": {
          "base_uri": "https://localhost:8080/"
        },
        "id": "7YQRTqcSAel9",
        "outputId": "9054ec9a-2dc7-4f3b-f97c-7c4db1b2c429"
      },
      "execution_count": null,
      "outputs": [
        {
          "output_type": "stream",
          "name": "stdout",
          "text": [
            "0\n",
            "1\n",
            "2\n",
            "3\n",
            "4\n",
            "5\n",
            "6\n",
            "\n",
            "\n",
            "I\n",
            "S\n",
            "R\n",
            "O\n",
            "Loop has executed and now else statement too\n"
          ]
        }
      ]
    },
    {
      "cell_type": "code",
      "source": [
        "# For loops :-\n",
        "# It is used to iterate any iterable ( lists,tuples,sets,dictionaries , strings )\n",
        "# Iterating for a string :\n",
        "name = \"Suraj\"\n",
        "for char in name :\n",
        "  print(char)\n",
        "print('\\n')\n",
        "\n",
        "for i in range(3) : # For using range function with one parameter\n",
        "  print(i)\n",
        "print('\\n')\n",
        "for i in range(4,9) : # Using two parameters\n",
        "  print(i)\n",
        "print('\\n')\n",
        "# Using three parameters where the 3rd one is step size (by default is 1 )\n",
        "for i in range(5,35,4) :\n",
        "  print(i)\n",
        "\n",
        "print('\\n')\n",
        "string = \"Python\"\n",
        "for i in string :\n",
        "  if i == 'h' :\n",
        "    continue         # Used continue statement\n",
        "  print(i)\n",
        "\n",
        "print('\\n')\n",
        "# Nested for - loops\n",
        "adj = ['fat','gorgeous', 'ugly']\n",
        "stars = ['Karina','Kartik','Kriti']\n",
        "for i in adj :\n",
        "  for j in stars :\n",
        "    print(i,j)"
      ],
      "metadata": {
        "colab": {
          "base_uri": "https://localhost:8080/"
        },
        "id": "qdqwwlbFZxND",
        "outputId": "3597ed3c-f706-4000-95b9-387e79de4586"
      },
      "execution_count": null,
      "outputs": [
        {
          "output_type": "stream",
          "name": "stdout",
          "text": [
            "S\n",
            "u\n",
            "r\n",
            "a\n",
            "j\n",
            "\n",
            "\n",
            "0\n",
            "1\n",
            "2\n",
            "\n",
            "\n",
            "4\n",
            "5\n",
            "6\n",
            "7\n",
            "8\n",
            "\n",
            "\n",
            "5\n",
            "9\n",
            "13\n",
            "17\n",
            "21\n",
            "25\n",
            "29\n",
            "33\n",
            "\n",
            "\n",
            "P\n",
            "y\n",
            "t\n",
            "o\n",
            "n\n",
            "\n",
            "\n",
            "fat Karina\n",
            "fat Kartik\n",
            "fat Kriti\n",
            "gorgeous Karina\n",
            "gorgeous Kartik\n",
            "gorgeous Kriti\n",
            "ugly Karina\n",
            "ugly Kartik\n",
            "ugly Kriti\n"
          ]
        }
      ]
    },
    {
      "cell_type": "code",
      "source": [
        "# Functions in Python\n",
        "# Basic Calculator\n",
        "def calci (a,b,choice) :  # Here a,b,choice are called as parameters\n",
        "  if choice == 1 :\n",
        "    return a + b\n",
        "  elif choice == 2 :\n",
        "    return a - b\n",
        "  elif choice == 3 :\n",
        "    return a*b\n",
        "  elif choice == 4 :\n",
        "    return a/b\n",
        "  elif choice == 5 :\n",
        "    return a%b\n",
        "  else :\n",
        "    print('Invalid choice')\n",
        "# Calling the function\n",
        "calci (5,6,2)\n",
        "# Here 5,6,2 are called are arguments\n",
        "\n",
        "# Using the varargs (*args)\n",
        "# Varargs are useful when you want to create functions that can handle different numbers of inputs\n",
        "# without explicitly specifying the exact number of arguments\n",
        "# Here the function receives a tuple of arguments\n",
        "def sum_all (*args) :\n",
        "  total = 0\n",
        "  for i in args :\n",
        "    total = total + i\n",
        "  return total\n",
        "\n",
        "print(sum_all(1,2,3,4))\n",
        "sum_all(23,45,47,22,44,6,7,8,9)\n",
        "\n",
        "# Using normal keyword arguments or kwargs\n",
        "def myfunc ( sys1 , sys2 , sys3 ) :\n",
        "  print(f\"There are many OS like {sys3} , {sys1} , {sys2}\")\n",
        "\n",
        "myfunc(sys1='Windows' , sys2 = 'Linux' , sys3 = 'Mac')\n",
        "# Here we used as key = value syntax to send arguments\n",
        "\n",
        "# Using arbitrary keyword arguments or (**kwargs)\n",
        "# Here the function receives a dictionary of arguments\n",
        "def details (name , age , **kwargs) :  # Combining with regular arguments\n",
        "  print(f\"NAME : {name}\")\n",
        "  print(f\"AGE : {age}\")\n",
        "  for key , value in kwargs.items() :\n",
        "    print(f\"{key.upper()} : {value}\")\n",
        "details(\"Anna\",23,city = \"Mussoorie\",occupation = \"Engineer\")\n",
        "\n",
        "# Defining default values and then updating/changing it as per the user\n",
        "def student_info (**details) :\n",
        "  info = { 'name' : 'unknown' , 'roll_no' : 000 , 'div' : '|-|'}\n",
        "  info.update(details)\n",
        "  return info\n",
        "\n",
        "student1 = student_info(name = 'Vikram', roll_no = 120 , div = 'IT')\n",
        "student2 = student_info(name = 'Sakshi', roll_no = 145 , div = \"Comps\")\n",
        "print(student1)\n",
        "print(student2)\n",
        "\n",
        "# Showcasing default parameter value\n",
        "def func1 (country = 'India') :\n",
        "  print(f'{country} is a great place for tourism !!')\n",
        "func1()\n",
        "func1('Sweden')\n",
        "func1('Dubai')\n",
        "\n",
        "# Passing tuple as an argument\n",
        "def func2 (mytuple) :\n",
        "  print(\"Got your tuple as an argument to me :\")\n",
        "  for item in mytuple:\n",
        "    print(item)\n",
        "mytuple = ('Jason',23,'NewYork',25.67)\n",
        "func2(mytuple)\n",
        "\n",
        "# Recursion Example\n",
        "def recursion(num) :\n",
        "  if num > 0 :\n",
        "    result = num + recursion(num-1)\n",
        "    print(result)\n",
        "  else :\n",
        "    result = 0\n",
        "  return result\n",
        "recursion(6)"
      ],
      "metadata": {
        "colab": {
          "base_uri": "https://localhost:8080/"
        },
        "id": "mcLGtdcokla-",
        "outputId": "a13aeb2d-8e52-4c1d-d569-47c7ad95e75b"
      },
      "execution_count": null,
      "outputs": [
        {
          "output_type": "stream",
          "name": "stdout",
          "text": [
            "10\n",
            "There are many OS like Mac , Windows , Linux\n",
            "NAME : Anna\n",
            "AGE : 23\n",
            "CITY : Mussoorie\n",
            "OCCUPATION : Engineer\n",
            "{'name': 'Vikram', 'roll_no': 120, 'div': 'IT'}\n",
            "{'name': 'Sakshi', 'roll_no': 145, 'div': 'Comps'}\n",
            "India is a great place for tourism !!\n",
            "Sweden is a great place for tourism !!\n",
            "Dubai is a great place for tourism !!\n",
            "Got your tuple as an argument to me :\n",
            "Jason\n",
            "23\n",
            "NewYork\n",
            "25.67\n",
            "1\n",
            "3\n",
            "6\n",
            "10\n",
            "15\n",
            "21\n"
          ]
        },
        {
          "output_type": "execute_result",
          "data": {
            "text/plain": [
              "21"
            ]
          },
          "metadata": {},
          "execution_count": 50
        }
      ]
    },
    {
      "cell_type": "code",
      "source": [
        "# Lambda Functions\n",
        "# Use lambda functions when an anonymous function is required for a short period of time.\n",
        "# Syntax -  lambda arguments : expression\n",
        "\n",
        "func1 = lambda a,b : a*b\n",
        "print(func1(5,5))\n",
        "\n",
        "func2 = lambda a,b,c : a/b + c\n",
        "print(func2(10,5,11))\n",
        "\n",
        "# Making functions that doubles and triples whatever no. we send to it\n",
        "def newfunc (k) :\n",
        "  return lambda a : a * k\n",
        "doubler = newfunc(2)\n",
        "tripler = newfunc(3)\n",
        "print(doubler(15))\n",
        "print(tripler(6))"
      ],
      "metadata": {
        "colab": {
          "base_uri": "https://localhost:8080/"
        },
        "id": "elpeTNXVIQ15",
        "outputId": "23b4e568-045a-4a16-c8f7-65c89abcbefb"
      },
      "execution_count": null,
      "outputs": [
        {
          "output_type": "stream",
          "name": "stdout",
          "text": [
            "25\n",
            "13.0\n",
            "30\n",
            "18\n"
          ]
        }
      ]
    },
    {
      "cell_type": "markdown",
      "source": [
        "# ***Lecture 3 - OOP***"
      ],
      "metadata": {
        "id": "04njzZ6VVavc"
      }
    },
    {
      "cell_type": "code",
      "source": [
        "# Classes and Objects\n",
        "\n",
        "class myClass:\n",
        "  print(\"Hello World\")\n",
        "  num = 10\n",
        "\n",
        "obj = myClass() # Made an object of the class\n",
        "print(obj.num)  # Printing the num using . method\n",
        "\n",
        "class newClass:\n",
        "  name = 'Sharan'\n",
        "  occupation = 'Gamer'\n",
        "  def info(self):\n",
        "    print(f\"{self.name} is an {self.occupation}\")\n",
        "\n",
        "per1 = newClass()\n",
        "per1.name = \"Aastha\"\n",
        "per1.occupation = 'HR'\n",
        "\n",
        "per2 = newClass()\n",
        "per2.name = 'Ravi'\n",
        "per2.occupation = \"ISRO scientist\"\n",
        "\n",
        "per1.info()\n",
        "per2.info()"
      ],
      "metadata": {
        "id": "IFu7YqxzWFuW",
        "colab": {
          "base_uri": "https://localhost:8080/"
        },
        "outputId": "a575ee0a-82ae-4cd9-d511-da26c394261f"
      },
      "execution_count": 4,
      "outputs": [
        {
          "output_type": "stream",
          "name": "stdout",
          "text": [
            "Hello World\n",
            "10\n",
            "Aastha is an HR\n",
            "Ravi is an ISRO scientist\n"
          ]
        }
      ]
    },
    {
      "cell_type": "code",
      "source": [
        "# Using the __init__ method\n",
        "# All classes have a function called __init__(),\n",
        "# which is always executed when the class is being initiated.\n",
        "# This method is called automatically when a object is being created\n",
        "\n",
        "class details:\n",
        "  # Every method that you write in a class requires a self parameter to be passed\n",
        "  # Here we made it a parameterized constructor\n",
        "  def __init__(self , name , age):\n",
        "    print(\"I will be printed by default\")\n",
        "    self.name = name\n",
        "    self.age = age\n",
        "# Here self parameter means voh object jispe yeh method call ho rha hai\n",
        "# It is not imp. to name it self , you can name whatever you like , but it should be the 1st param\n",
        "\n",
        "obj1 = details(\"Harmali\",45)\n",
        "print(obj1.name , obj1.age)\n",
        "obj2 = details(\"Anant\",34)\n",
        "print(obj2.name , obj2.age)\n",
        "\n",
        "# __init__ is a special type of dunder method which helps us to make constructors\n",
        "# A default constructor :\n",
        "\n",
        "class noname :\n",
        "  def __init__(self):\n",
        "    print(\"Nothing new , only 'self' is passed \")\n",
        "newobj = noname()"
      ],
      "metadata": {
        "colab": {
          "base_uri": "https://localhost:8080/"
        },
        "id": "BGMRgXfl-PpY",
        "outputId": "a5d7398d-5fc0-4b49-b9e7-aac9d967c3a3"
      },
      "execution_count": 5,
      "outputs": [
        {
          "output_type": "stream",
          "name": "stdout",
          "text": [
            "I will be printed by default\n",
            "Harmali 45\n",
            "I will be printed by default\n",
            "Anant 34\n",
            "Nothing new , only 'self' is passed \n"
          ]
        }
      ]
    },
    {
      "cell_type": "code",
      "source": [
        "# Using __str__ method\n",
        "\n",
        "class Animal:\n",
        "  def __init__(self,name,exists):\n",
        "    self.n = name\n",
        "    self.e = exists\n",
        "\n",
        "  def __str__(self):\n",
        "    return f\"{self.n} - {self.e}\"\n",
        "\n",
        "anim1 = Animal('Tiger',True)\n",
        "anim2 = Animal('Dodo',False)\n",
        "print(anim1)\n",
        "print(anim2)\n",
        "\n",
        "# You can also delete obj or its prop by del keyword\n",
        "del anim2\n",
        "print(anim2) # Throws error"
      ],
      "metadata": {
        "colab": {
          "base_uri": "https://localhost:8080/",
          "height": 253
        },
        "id": "1-ZZ3RsXfidf",
        "outputId": "665cb119-9ee6-4b99-dddf-8e6a11143b8c"
      },
      "execution_count": 19,
      "outputs": [
        {
          "output_type": "stream",
          "name": "stdout",
          "text": [
            "Tiger - True\n",
            "Dodo - False\n"
          ]
        },
        {
          "output_type": "error",
          "ename": "NameError",
          "evalue": "ignored",
          "traceback": [
            "\u001b[0;31m---------------------------------------------------------------------------\u001b[0m",
            "\u001b[0;31mNameError\u001b[0m                                 Traceback (most recent call last)",
            "\u001b[0;32m<ipython-input-19-99b3e382ce21>\u001b[0m in \u001b[0;36m<cell line: 18>\u001b[0;34m()\u001b[0m\n\u001b[1;32m     16\u001b[0m \u001b[0;31m# You can also delete obj or its prop by del keyword\u001b[0m\u001b[0;34m\u001b[0m\u001b[0;34m\u001b[0m\u001b[0m\n\u001b[1;32m     17\u001b[0m \u001b[0;32mdel\u001b[0m \u001b[0manim2\u001b[0m\u001b[0;34m\u001b[0m\u001b[0;34m\u001b[0m\u001b[0m\n\u001b[0;32m---> 18\u001b[0;31m \u001b[0mprint\u001b[0m\u001b[0;34m(\u001b[0m\u001b[0manim2\u001b[0m\u001b[0;34m)\u001b[0m \u001b[0;31m# Throws error\u001b[0m\u001b[0;34m\u001b[0m\u001b[0;34m\u001b[0m\u001b[0m\n\u001b[0m",
            "\u001b[0;31mNameError\u001b[0m: name 'anim2' is not defined"
          ]
        }
      ]
    },
    {
      "cell_type": "code",
      "source": [
        "# Single Inheritance\n",
        "class Parent:\n",
        "  print(\"Hello , I am your Parent\")\n",
        "class Child(Parent):\n",
        "  print(\"I am a child\")\n",
        "obj1 = Child()\n",
        "# Automatically calls the parent class first when method is called\n",
        "print(\"\\n\")\n",
        "class Dog:\n",
        "  def parent_method(self):\n",
        "    print(\"I am a parent-class method \")\n",
        "  print(\"bhowww-bhoww\")\n",
        "class Pup(Dog):\n",
        "  def child_method(self):\n",
        "    print(\"I am a child-class method , but I can access parent methods too as I inherit from them\")\n",
        "  print(\"bhoo-bhoo\")\n",
        "a = Pup()            # Made object of child class\n",
        "a.parent_method()\n",
        "a.child_method()"
      ],
      "metadata": {
        "colab": {
          "base_uri": "https://localhost:8080/"
        },
        "id": "hD9Amg0ck6v3",
        "outputId": "4707151f-eb89-48cd-fd71-a9d0f1ffedd8"
      },
      "execution_count": 8,
      "outputs": [
        {
          "output_type": "stream",
          "name": "stdout",
          "text": [
            "Hello , I am your Parent\n",
            "I am a child\n",
            "\n",
            "\n",
            "bhowww-bhoww\n",
            "bhoo-bhoo\n",
            "I am a parent-class method \n",
            "I am a child-class method , but I can access parent methods too as I inherit from them\n"
          ]
        }
      ]
    },
    {
      "cell_type": "code",
      "source": [
        "# Multiple Inheritance\n",
        "class Father:\n",
        "  print(\"This is Multiple Inheritance\")\n",
        "  def par1(self):\n",
        "    print(\"Parent1 method\")\n",
        "\n",
        "class Mother:\n",
        "  print(\"It can be achieved in Python only\")\n",
        "  def par2(self):\n",
        "    print(\"Parent2 method\")\n",
        "\n",
        "class Kid(Father,Mother):\n",
        "  def child(self):\n",
        "    print(\"Child method\")\n",
        "\n",
        "child_obj = Kid()\n",
        "child_obj.par1()\n",
        "child_obj.par2()\n",
        "child_obj.child()"
      ],
      "metadata": {
        "colab": {
          "base_uri": "https://localhost:8080/"
        },
        "id": "z7ioF10xnKg7",
        "outputId": "b0fbdee4-6bc8-4cd2-bd20-b95919f52d0a"
      },
      "execution_count": 9,
      "outputs": [
        {
          "output_type": "stream",
          "name": "stdout",
          "text": [
            "This is Multiple Inheritance\n",
            "It can be achieved in Python only\n",
            "Parent1 method\n",
            "Parent2 method\n",
            "Child method\n"
          ]
        }
      ]
    },
    {
      "cell_type": "code",
      "source": [
        "# Multilevel Inheritance\n",
        "class TigerMum:\n",
        "  def func1(self):\n",
        "    print(\"Hello , this is multilevel inheritance\")\n",
        "\n",
        "class cub1(TigerMum):\n",
        "  def func2(self):\n",
        "    print(\"Cub 1 is child of TigerMum\")\n",
        "\n",
        "class cub2(TigerMum):\n",
        "  def func3(self):\n",
        "    print(\"Cub 2 is child of TigerMum\")\n",
        "\n",
        "obj1 = cub1()\n",
        "obj2 = cub2()\n",
        "obj1.func1()\n",
        "obj2.func1()\n",
        "obj1.func2()\n",
        "obj2.func3()"
      ],
      "metadata": {
        "colab": {
          "base_uri": "https://localhost:8080/"
        },
        "id": "OOE59VtiqpaB",
        "outputId": "76101d4d-3962-4f6c-9645-f990a4ebf77f"
      },
      "execution_count": 10,
      "outputs": [
        {
          "output_type": "stream",
          "name": "stdout",
          "text": [
            "Hello , this is multilevel inheritance\n",
            "Hello , this is multilevel inheritance\n",
            "Cub 1 is child of TigerMum\n",
            "Cub 2 is child of TigerMum\n"
          ]
        }
      ]
    },
    {
      "cell_type": "code",
      "source": [
        "# Using super keyword\n",
        "class Grandfather:\n",
        "  def f1(self):\n",
        "    print(\"Grandfather speaks\")\n",
        "class Father(Grandfather):\n",
        "  def f2(self):\n",
        "    print(\"Father speaks\")\n",
        "class Child(Father):\n",
        "  def f3(self):\n",
        "    print(\"Child speaks\")\n",
        "    super().f2()\n",
        "    super().f1()\n",
        "myObj = Child()\n",
        "myObj.f3()"
      ],
      "metadata": {
        "colab": {
          "base_uri": "https://localhost:8080/"
        },
        "id": "1pHfG9IGHruJ",
        "outputId": "3a246f25-ab97-49a4-9fcf-b03308409784"
      },
      "execution_count": 11,
      "outputs": [
        {
          "output_type": "stream",
          "name": "stdout",
          "text": [
            "Child speaks\n",
            "Father speaks\n",
            "Grandfather speaks\n"
          ]
        }
      ]
    },
    {
      "cell_type": "code",
      "source": [
        "# Understanding the __init__() method in inheritance\n",
        "# When you define the __init__() method in the child class , it won't inherit the __init__() in the parent class\n",
        "# This is because of Python's MRO (Method Resolution Order)\n",
        "# Two reasons :-\n",
        "# --> Python treats __init__() in child class as a new constructor\n",
        "# --> The child class's init method overrides parent class's method\n",
        "\n",
        "class ParentCom:\n",
        "  def __init__(self,turnover):\n",
        "    self.turn = turnover\n",
        "  def evaluation(self):\n",
        "    print(f\"Parent Company's annual evaluation is {self.turn}\")\n",
        "    print(f\"Child Company's annual evaluation is {self.child_turnover}\")\n",
        "\n",
        "class Company(ParentCom):\n",
        "  def __init__(self,turnover,child_turnover):\n",
        "    # For the child class to inherit parent's init , explicitly call the parent's init method\n",
        "    # Given below , both are valid ways to call explicitly\n",
        "\n",
        "    # ParentCom.__init__(self,turnover)  ---> 1st\n",
        "    super().__init__(turnover)         # ---> 2nd\n",
        "    # By using the super() function, you do not have to use the name of the parent element,\n",
        "    # it will automatically inherit the methods and properties from its parent.\n",
        "\n",
        "    self.child_turnover = child_turnover\n",
        "\n",
        "google = Company(25000,12000)\n",
        "google.evaluation()"
      ],
      "metadata": {
        "id": "mwZnrWIKJLUQ",
        "colab": {
          "base_uri": "https://localhost:8080/"
        },
        "outputId": "229d73dc-0f5c-4979-9bc9-30d3acd40637"
      },
      "execution_count": 12,
      "outputs": [
        {
          "output_type": "stream",
          "name": "stdout",
          "text": [
            "Parent Company's annual evaluation is 25000\n",
            "Child Company's annual evaluation is 12000\n"
          ]
        }
      ]
    },
    {
      "cell_type": "code",
      "source": [
        "# Polymorphism\n",
        "\n",
        "# Method Overloading (static polymorphism)\n",
        "# Python does not support method overloading directly ,but there are certain ways in which we can do it\n",
        "# Reason is : we may overload the method , but we can use the latest one only\n",
        "# Calling the prior method will throw an error\n",
        "\n",
        "# Ways in which overloding could be achieved :\n",
        "# Method 1 (Using None keyword as default parameter) - Not efficient\n",
        "def add(num1 = None , num2 = None) :\n",
        "   if num1 != None and num2 == None :\n",
        "    print(num1)\n",
        "   else :\n",
        "    print(num1 + num2)\n",
        "add(2,3)\n",
        "add(2)\n",
        "\n",
        "# Method 2 - Using Multiple Dispatch Decorator\n",
        "from multipledispatch import dispatch\n",
        "\n",
        "@dispatch(float,float,float)       # Using concept of decorators\n",
        "def multiply(a,b,c):\n",
        "  return a*b*c\n",
        "\n",
        "@dispatch(int,int)\n",
        "def multiply(a,b):\n",
        "  return a*b\n",
        "\n",
        "@dispatch(int,int,int)\n",
        "def multiply(a,b,c):\n",
        "  return a*b*c\n",
        "ans1 = multiply(4,5)\n",
        "ans2 = multiply(2.34,3.56,12.345)\n",
        "ans3 = multiply(5,6,7)\n",
        "print(ans1,ans2,ans3)"
      ],
      "metadata": {
        "colab": {
          "base_uri": "https://localhost:8080/"
        },
        "id": "Y5V-Ne8oYOSt",
        "outputId": "7208908e-c87e-45de-819b-853b64b16a20"
      },
      "execution_count": 13,
      "outputs": [
        {
          "output_type": "stream",
          "name": "stdout",
          "text": [
            "5\n",
            "2\n",
            "20 102.838788 210\n"
          ]
        }
      ]
    },
    {
      "cell_type": "code",
      "source": [
        "# Method overriding (dynamic polymorphism)\n",
        "class parent:\n",
        "\n",
        "  def __init__(self):\n",
        "    print(\"I am being printed from Parent Class....\")\n",
        "\n",
        "  def display(self,val):\n",
        "    print(\"Value Of Parent class = \", val)\n",
        "\n",
        "class child(parent):\n",
        "\n",
        "  def __init__(self):\n",
        "    print(\"I am being printed from Child Class....\")\n",
        "    parent.__init__(self)\n",
        "\n",
        "  def display(self,val):\n",
        "    super().display(val + 1)\n",
        "    print(\"Value of Child Class = \",val)\n",
        "\n",
        "class grandchild(child):\n",
        "\n",
        "  def __init__(self):\n",
        "    print(\"I am being printed from GrandChild Class....\")\n",
        "    child.__init__(self)\n",
        "\n",
        "  def display(self,val):\n",
        "    super().display(val + 1)\n",
        "    print(\"Value of GrandChild Class = \",val)\n",
        "\n",
        "myobj = grandchild()\n",
        "myobj.display(20)"
      ],
      "metadata": {
        "colab": {
          "base_uri": "https://localhost:8080/"
        },
        "id": "tVoF1CAVZChE",
        "outputId": "b04a964a-d876-4b30-9239-654d5283bd45"
      },
      "execution_count": 14,
      "outputs": [
        {
          "output_type": "stream",
          "name": "stdout",
          "text": [
            "I am being printed from GrandChild Class....\n",
            "I am being printed from Child Class....\n",
            "I am being printed from Parent Class....\n",
            "Value Of Parent class =  22\n",
            "Value of Child Class =  21\n",
            "Value of GrandChild Class =  20\n"
          ]
        }
      ]
    },
    {
      "cell_type": "code",
      "source": [
        "# Exception- handling in Python\n",
        "# Exceptions are raised when the program is syntactically correct, but the code results in an error\n",
        "\n",
        "mks = 100\n",
        "string = 'Hi'\n",
        "try :\n",
        "  result = 100/0\n",
        "except ZeroDivisionError :\n",
        "  print(\"ZeroDivisionError occured :\")\n",
        "  print(\"You cannot divide by zero\")\n",
        "\n",
        "try :\n",
        "  ans = mks + string\n",
        "except TypeError :\n",
        "  print(\"TypeError occured :\")\n",
        "  print('You cannot add a string to an int')\n",
        "\n",
        "mylist = [23,45,33]\n",
        "try:\n",
        "  print(\"Second Element of the list = \",mylist[1])\n",
        "  print(\"Fourth Element of the list = \",mylist[3])\n",
        "except :\n",
        "  print(\"IndexError occured :\")\n",
        "  print(\"stated index does not exists\")\n",
        "\n",
        "# You can have multiple except clauses for one try clause"
      ],
      "metadata": {
        "colab": {
          "base_uri": "https://localhost:8080/"
        },
        "id": "8c9YJaLtf3ko",
        "outputId": "d4e448ce-bab7-43a3-e74f-8e52a4feb9ca"
      },
      "execution_count": 15,
      "outputs": [
        {
          "output_type": "stream",
          "name": "stdout",
          "text": [
            "ZeroDivisionError occured :\n",
            "You cannot divide by zero\n",
            "TypeError occured :\n",
            "You cannot add a string to an int\n",
            "Second Element of the list =  45\n",
            "IndexError occured :\n",
            "stated index does not exists\n"
          ]
        }
      ]
    },
    {
      "cell_type": "code",
      "source": [
        "# Else block in Exception\n",
        "\n",
        "def exp(a,b):\n",
        "  try :\n",
        "    result = (a*a + b*b)/(a*a - b*b)\n",
        "  except :\n",
        "    print(\"Error : You can't divide by zero \")\n",
        "  else :\n",
        "    # The code enters the else block only if the try clause does not raise an exception.\n",
        "    print(\"Result = \",result)\n",
        "  finally :\n",
        "    # finally block is always executed whether exception is generated or not\n",
        "    print(\"I'm gigaChad , I'm always executed\")\n",
        "\n",
        "exp(3,2)\n",
        "exp(2,2)"
      ],
      "metadata": {
        "colab": {
          "base_uri": "https://localhost:8080/"
        },
        "id": "-8U6TqE886p1",
        "outputId": "7e43547d-3b66-462e-9286-a847743c317b"
      },
      "execution_count": 17,
      "outputs": [
        {
          "output_type": "stream",
          "name": "stdout",
          "text": [
            "Result =  2.6\n",
            "Error : You can't divide by zero \n"
          ]
        }
      ]
    },
    {
      "cell_type": "code",
      "source": [
        "# Other way of writing except block :\n",
        "def add(n1,n2):\n",
        "  try :\n",
        "    if n1 > 10 :\n",
        "      ans = n1 + n2\n",
        "      print(ans)\n",
        "    else :\n",
        "      print(ans)\n",
        "  except Exception as e :\n",
        "    # By this way we can know about the type of error occurring\n",
        "    print(\"Type of error : \",e)\n",
        "add(3,4)\n",
        "add(12,23)"
      ],
      "metadata": {
        "colab": {
          "base_uri": "https://localhost:8080/"
        },
        "id": "6jUkDgAkDDK9",
        "outputId": "c1d6d1cc-3d76-4afa-c5ec-0d99bb3ee0f9"
      },
      "execution_count": 18,
      "outputs": [
        {
          "output_type": "stream",
          "name": "stdout",
          "text": [
            "Type of error :  local variable 'ans' referenced before assignment\n",
            "35\n"
          ]
        }
      ]
    }
  ]
}